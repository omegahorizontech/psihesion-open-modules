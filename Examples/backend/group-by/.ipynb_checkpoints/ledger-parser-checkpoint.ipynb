{
 "cells": [
  {
   "cell_type": "markdown",
   "id": "bd82d564",
   "metadata": {},
   "source": [
    "### Problem Description\n",
    "\n",
    "Given a set of transaction records (in CSV format, for now), create distinct ledgers for the distinct entities indicated in the records. \n",
    "\n",
    "#### Example\n",
    "\n",
    "Date; Description; Credit; Debit; Entity; Ledger\n",
    "\n",
    "12-03-2022; GOOGLE SERVICES; ; 50; ANT; IRS  \n",
    "11-03-2022; GOOGLE SERVICES; ; 50; ANT; IRS  \n",
    "10-03-2022; GOOGLE SERVICES; ; 50; ANT; IRS  \n",
    "09-03-2022; GOOGLE SERVICES; ; 50; ANT; IRS  \n",
    "12-03-2022; ADOBE CREATIVE; ; 75; ANT; IRS  \n",
    "11-03-2022; ADOBE CREATIVE; ; 75; ANT; IRS  \n",
    "10-03-2022; ADOBE CREATIVE; ; 75; ANT; IRS  \n",
    "09-03-2022; ADOBE CREATIVE; ; 75; ANT; IRS  \n",
    "\n",
    "### Use Case\n",
    "\n",
    "- The user can upload a csv or 'target' a data source\n",
    "- Transactions that are 'similar' are automatically grouped together\n",
    "- The user can apply labels once to a single member of a group and it will propagate to other group members\n",
    "\n",
    "Example transaction files in biz-docs -> finances\n",
    "Helper methods available at https://github.com/omegahorizontech/psihesion/blob/main/app/backend/helpers/readers.py"
   ]
  },
  {
   "cell_type": "code",
   "execution_count": 1,
   "id": "bb0fae84",
   "metadata": {},
   "outputs": [],
   "source": [
    "import pandas as pd\n"
   ]
  },
  {
   "cell_type": "code",
   "execution_count": 47,
   "id": "c8c274ca",
   "metadata": {},
   "outputs": [
    {
     "name": "stdout",
     "output_type": "stream",
     "text": [
      "  POSTING DATE  DEPOSITS & OTHER CREDITS (+)  WITHDRAWALS & OTHER DEBITS (-)  \\\n",
      "0   2022-01-04                           NaN                            6.81   \n",
      "1   2022-02-04                           NaN                            1.81   \n",
      "2   2022-03-04                           NaN                            1.81   \n",
      "3   2022-04-04                           NaN                            1.81   \n",
      "4   2022-05-03                           NaN                            1.81   \n",
      "\n",
      "               TRANSACTION DESCRIPTION                Type  \n",
      "0  Amazon web services   aws.amazon.co  Service – Software  \n",
      "1  Amazon web services   aws.amazon.co  Service – Software  \n",
      "2  Amazon web services   aws.amazon.co  Service – Software  \n",
      "3  Amazon web services   aws.amazon.co  Service – Software  \n",
      "4  Amazon web services   aws.amazon.co  Service – Software  \n"
     ]
    }
   ],
   "source": [
    "transactions = pd.read_excel(\"OmegaHorizon-checking-2022Transactions.ods\", engine=\"odf\")\n",
    "print(transactions.head())"
   ]
  },
  {
   "cell_type": "code",
   "execution_count": 48,
   "id": "9bbaeefc",
   "metadata": {},
   "outputs": [
    {
     "name": "stdout",
     "output_type": "stream",
     "text": [
      "                                            COUNTS  DEPOSITS  DEBITS  GROUP_ID\n",
      "TRANSACTION DESCRIPTION                                                       \n",
      "Amazon web services   aws.amazon.co             14       0.0  109.72         0\n",
      "BUNDLE FEE WAIVER                               12     300.0    0.00         1\n",
      "GITHUB                HTTPSGITHUB.C             12       0.0   96.00         2\n",
      "INTUIT *QBooks Online CL.INTUIT.COM              6       0.0  180.00         3\n",
      "INTUIT *QuickBooks OnlCL.INTUIT.COM              6       0.0  150.00         4\n",
      "INTUIT *TURBOTAX      CL.INTUIT.COM              2       0.0  290.00         5\n",
      "NOUNPROJECT.COM       THENOUNPROJEC              1       0.0   39.99         6\n",
      "SERVICE CHARGE FOR ACCOUNT 000009872519609      12       0.0  300.00         7\n",
      "WARREN COUUNTY ONLINE 540-6352215                2       0.0   19.99         8\n",
      "WEB XFER FROM CHK 00009875147531                 2    1120.0    0.00         9\n",
      "WEB XFER TO CHK   00009875147531                 1       0.0  250.00        10\n"
     ]
    }
   ],
   "source": [
    "# Group Similar Transactions\n",
    "groups = transactions.groupby([\"TRANSACTION DESCRIPTION\"])\n",
    "group_info = pd.DataFrame()\n",
    "\n",
    "# Select Info to Display about Groups\n",
    "sums = groups.sum()\n",
    "group_info[\"COUNTS\"] = groups.count()[\"POSTING DATE\"]\n",
    "group_info[\"DEPOSITS\"] = sums[\"DEPOSITS & OTHER CREDITS (+)\"]\n",
    "group_info[\"DEBITS\"] = sums[\"WITHDRAWALS & OTHER DEBITS (-)\"]\n",
    "group_info = group_info.assign(GROUP_ID=pd.RangeIndex(len(group_info.index)))\n",
    "\n",
    "print(group_info)"
   ]
  },
  {
   "cell_type": "code",
   "execution_count": 59,
   "id": "7abc32b3",
   "metadata": {},
   "outputs": [
    {
     "name": "stdout",
     "output_type": "stream",
     "text": [
      "{'Amazon web services   aws.amazon.co': [0, 1, 2, 3, 4, 5, 6, 7, 8, 9, 10, 11, 12, 13], 'BUNDLE FEE WAIVER': [14, 15, 16, 17, 18, 19, 20, 21, 22, 23, 24, 25], 'GITHUB                HTTPSGITHUB.C': [26, 27, 28, 29, 30, 31, 32, 33, 34, 35, 36, 37], 'INTUIT *QBooks Online CL.INTUIT.COM': [38, 39, 40, 41, 42, 43], 'INTUIT *QuickBooks OnlCL.INTUIT.COM': [44, 45, 46, 47, 48, 49], 'INTUIT *TURBOTAX      CL.INTUIT.COM': [50, 51], 'NOUNPROJECT.COM       THENOUNPROJEC': [52], 'SERVICE CHARGE FOR ACCOUNT 000009872519609': [53, 54, 55, 56, 57, 58, 59, 60, 61, 62, 63, 64], 'WARREN COUUNTY ONLINE 540-6352215': [65, 66], 'WEB XFER FROM CHK 00009875147531': [67, 68], 'WEB XFER TO CHK   00009875147531': [69]}\n",
      "['Type', '__annotations__', '__class__', '__class_getitem__', '__delattr__', '__dict__', '__dir__', '__doc__', '__eq__', '__format__', '__ge__', '__getattr__', '__getattribute__', '__getitem__', '__gt__', '__hash__', '__init__', '__init_subclass__', '__iter__', '__le__', '__len__', '__lt__', '__module__', '__ne__', '__new__', '__orig_bases__', '__parameters__', '__reduce__', '__reduce_ex__', '__repr__', '__setattr__', '__sizeof__', '__slots__', '__str__', '__subclasshook__', '__weakref__', '_accessors', '_agg_examples_doc', '_agg_general', '_agg_py_fallback', '_aggregate_frame', '_aggregate_item_by_item', '_aggregate_with_numba', '_apply_allowlist', '_apply_filter', '_apply_to_column_groupbys', '_ascending_count', '_bool_agg', '_cache', '_can_use_transform_fast', '_choose_path', '_concat_objects', '_constructor', '_cumcount_array', '_cython_agg_general', '_cython_transform', '_define_paths', '_descending_count', '_dir_additions', '_dir_deletions', '_fill', '_get_cythonized_result', '_get_data_to_aggregate', '_get_index', '_get_indices', '_gotitem', '_group_selection', '_group_selection_context', '_hidden_attrs', '_indexed_output_to_ndframe', '_insert_inaxis_grouper_inplace', '_internal_names', '_internal_names_set', '_is_protocol', '_iterate_column_groupbys', '_iterate_slices', '_make_mask_from_int', '_make_mask_from_list', '_make_mask_from_positional_indexer', '_make_mask_from_slice', '_make_mask_from_tuple', '_make_wrapper', '_mask_selected_obj', '_numba_agg_general', '_numba_prep', '_obj_1d_constructor', '_obj_with_exclusions', '_positional_selector', '_python_agg_general', '_python_apply_general', '_reindex_output', '_reset_cache', '_reset_group_selection', '_resolve_numeric_only', '_selected_obj', '_selection', '_selection_list', '_set_group_selection', '_set_result_index_ordered', '_transform', '_transform_general', '_transform_item_by_item', '_transform_with_numba', '_wrap_agged_manager', '_wrap_aggregated_output', '_wrap_applied_output', '_wrap_applied_output_series', '_wrap_transform_fast_result', '_wrap_transformed_output', 'agg', 'aggregate', 'all', 'any', 'apply', 'backfill', 'bfill', 'boxplot', 'corr', 'corrwith', 'count', 'cov', 'cumcount', 'cummax', 'cummin', 'cumprod', 'cumsum', 'describe', 'diff', 'dtypes', 'ewm', 'expanding', 'ffill', 'fillna', 'filter', 'first', 'get_group', 'groups', 'head', 'hist', 'idxmax', 'idxmin', 'indices', 'last', 'mad', 'max', 'mean', 'median', 'min', 'ndim', 'ngroup', 'ngroups', 'nth', 'nunique', 'ohlc', 'pad', 'pct_change', 'pipe', 'plot', 'prod', 'quantile', 'rank', 'resample', 'rolling', 'sample', 'sem', 'shift', 'size', 'skew', 'std', 'sum', 'tail', 'take', 'transform', 'tshift', 'value_counts', 'var']\n"
     ]
    }
   ],
   "source": [
    "print(groups.groups)\n",
    "print(dir(groups))"
   ]
  },
  {
   "cell_type": "code",
   "execution_count": 66,
   "id": "d6b8094f",
   "metadata": {},
   "outputs": [
    {
     "name": "stdout",
     "output_type": "stream",
     "text": [
      "   POSTING DATE  DEPOSITS & OTHER CREDITS (+)  WITHDRAWALS & OTHER DEBITS (-)  \\\n",
      "0    2022-01-04                           NaN                            6.81   \n",
      "1    2022-02-04                           NaN                            1.81   \n",
      "2    2022-03-04                           NaN                            1.81   \n",
      "3    2022-04-04                           NaN                            1.81   \n",
      "4    2022-05-03                           NaN                            1.81   \n",
      "..          ...                           ...                             ...   \n",
      "65   2022-01-06                           NaN                           10.20   \n",
      "66   2022-06-21                           NaN                            9.79   \n",
      "67   2022-03-02                         620.0                             NaN   \n",
      "68   2022-12-29                         500.0                             NaN   \n",
      "69   2022-12-19                           NaN                          250.00   \n",
      "\n",
      "                TRANSACTION DESCRIPTION                                  Type  \\\n",
      "0   Amazon web services   aws.amazon.co                    Service – Software   \n",
      "1   Amazon web services   aws.amazon.co                    Service – Software   \n",
      "2   Amazon web services   aws.amazon.co                    Service – Software   \n",
      "3   Amazon web services   aws.amazon.co                    Service – Software   \n",
      "4   Amazon web services   aws.amazon.co                    Service – Software   \n",
      "..                                  ...                                   ...   \n",
      "65    WARREN COUUNTY ONLINE 540-6352215                                 Taxes   \n",
      "66    WARREN COUUNTY ONLINE 540-6352215                                 Taxes   \n",
      "67     WEB XFER FROM CHK 00009875147531   Member Contribution (50/50 BWC/NCB)   \n",
      "68     WEB XFER FROM CHK 00009875147531   Member Contribution (50/50 BWC/NCB)   \n",
      "69     WEB XFER TO CHK   00009875147531  Member Reimbursement (50/50 BWC/NCB)   \n",
      "\n",
      "    GROUP_ID  \n",
      "0          0  \n",
      "1          0  \n",
      "2          0  \n",
      "3          0  \n",
      "4          0  \n",
      "..       ...  \n",
      "65         8  \n",
      "66         8  \n",
      "67         9  \n",
      "68         9  \n",
      "69        10  \n",
      "\n",
      "[70 rows x 6 columns]\n"
     ]
    }
   ],
   "source": [
    "# group_info.assign(ID=pd.RangeIndex(len(group_info.index)))\n",
    "\n",
    "# grouped_transactions = transactions.join(groups.index)\n",
    "# grouped_transactions = transactions.assign(GROUP_ID=group_info[group_info.index == transactions[\"TRANSACTION DESCRIPTION\"]][\"GROUP_ID\"])\n",
    "grouped_transactions = transactions.join(group_info, on=\"TRANSACTION DESCRIPTION\").drop(columns=[\"COUNTS\", \"DEPOSITS\", \"DEBITS\"])\n",
    "\n",
    "print(grouped_transactions)"
   ]
  },
  {
   "cell_type": "code",
   "execution_count": 52,
   "id": "18640f7d",
   "metadata": {},
   "outputs": [
    {
     "name": "stdout",
     "output_type": "stream",
     "text": [
      "  POSTING DATE  DEPOSITS & OTHER CREDITS (+)  WITHDRAWALS & OTHER DEBITS (-)  \\\n",
      "0   2022-01-04                           NaN                            6.81   \n",
      "1   2022-02-04                           NaN                            1.81   \n",
      "2   2022-03-04                           NaN                            1.81   \n",
      "3   2022-04-04                           NaN                            1.81   \n",
      "4   2022-05-03                           NaN                            1.81   \n",
      "5   2022-06-06                           NaN                            1.81   \n",
      "6   2022-07-05                           NaN                            1.81   \n",
      "7   2022-08-04                           NaN                            1.81   \n",
      "8   2022-09-06                           NaN                            1.81   \n",
      "9   2022-09-30                           NaN                           71.00   \n",
      "\n",
      "               TRANSACTION DESCRIPTION                Type  COUNTS  DEPOSITS  \\\n",
      "0  Amazon web services   aws.amazon.co  Service – Software      14       0.0   \n",
      "1  Amazon web services   aws.amazon.co  Service – Software      14       0.0   \n",
      "2  Amazon web services   aws.amazon.co  Service – Software      14       0.0   \n",
      "3  Amazon web services   aws.amazon.co  Service – Software      14       0.0   \n",
      "4  Amazon web services   aws.amazon.co  Service – Software      14       0.0   \n",
      "5  Amazon web services   aws.amazon.co  Service – Software      14       0.0   \n",
      "6  Amazon web services   aws.amazon.co  Service – Software      14       0.0   \n",
      "7  Amazon web services   aws.amazon.co  Service – Software      14       0.0   \n",
      "8  Amazon web services   aws.amazon.co  Service – Software      14       0.0   \n",
      "9  Amazon web services   aws.amazon.co  Service – Software      14       0.0   \n",
      "\n",
      "   DEBITS  GROUP_ID  \n",
      "0  109.72         0  \n",
      "1  109.72         0  \n",
      "2  109.72         0  \n",
      "3  109.72         0  \n",
      "4  109.72         0  \n",
      "5  109.72         0  \n",
      "6  109.72         0  \n",
      "7  109.72         0  \n",
      "8  109.72         0  \n",
      "9  109.72         0  \n"
     ]
    }
   ],
   "source": [
    "# grouped_transactions.index = grouped_transactions[\"GROUP_ID\"]\n",
    "\n",
    "print(grouped_transactions.head(10))"
   ]
  },
  {
   "cell_type": "code",
   "execution_count": 77,
   "id": "d952c42b",
   "metadata": {},
   "outputs": [
    {
     "ename": "AttributeError",
     "evalue": "'DataFrame' object has no attribute 'records'",
     "output_type": "error",
     "traceback": [
      "\u001b[1;31m---------------------------------------------------------------------------\u001b[0m",
      "\u001b[1;31mAttributeError\u001b[0m                            Traceback (most recent call last)",
      "Input \u001b[1;32mIn [77]\u001b[0m, in \u001b[0;36m<cell line: 1>\u001b[1;34m()\u001b[0m\n\u001b[1;32m----> 1\u001b[0m {k: \u001b[38;5;241m0\u001b[39m \u001b[38;5;28;01mfor\u001b[39;00m k \u001b[38;5;129;01min\u001b[39;00m \u001b[43mgrouped_transactions\u001b[49m\u001b[38;5;241;43m.\u001b[39;49m\u001b[43mrecords\u001b[49m}\n",
      "File \u001b[1;32m~\\AppData\\Roaming\\Python\\Python310\\site-packages\\pandas\\core\\generic.py:5575\u001b[0m, in \u001b[0;36mNDFrame.__getattr__\u001b[1;34m(self, name)\u001b[0m\n\u001b[0;32m   5568\u001b[0m \u001b[38;5;28;01mif\u001b[39;00m (\n\u001b[0;32m   5569\u001b[0m     name \u001b[38;5;129;01mnot\u001b[39;00m \u001b[38;5;129;01min\u001b[39;00m \u001b[38;5;28mself\u001b[39m\u001b[38;5;241m.\u001b[39m_internal_names_set\n\u001b[0;32m   5570\u001b[0m     \u001b[38;5;129;01mand\u001b[39;00m name \u001b[38;5;129;01mnot\u001b[39;00m \u001b[38;5;129;01min\u001b[39;00m \u001b[38;5;28mself\u001b[39m\u001b[38;5;241m.\u001b[39m_metadata\n\u001b[0;32m   5571\u001b[0m     \u001b[38;5;129;01mand\u001b[39;00m name \u001b[38;5;129;01mnot\u001b[39;00m \u001b[38;5;129;01min\u001b[39;00m \u001b[38;5;28mself\u001b[39m\u001b[38;5;241m.\u001b[39m_accessors\n\u001b[0;32m   5572\u001b[0m     \u001b[38;5;129;01mand\u001b[39;00m \u001b[38;5;28mself\u001b[39m\u001b[38;5;241m.\u001b[39m_info_axis\u001b[38;5;241m.\u001b[39m_can_hold_identifiers_and_holds_name(name)\n\u001b[0;32m   5573\u001b[0m ):\n\u001b[0;32m   5574\u001b[0m     \u001b[38;5;28;01mreturn\u001b[39;00m \u001b[38;5;28mself\u001b[39m[name]\n\u001b[1;32m-> 5575\u001b[0m \u001b[38;5;28;01mreturn\u001b[39;00m \u001b[38;5;28;43mobject\u001b[39;49m\u001b[38;5;241;43m.\u001b[39;49m\u001b[38;5;21;43m__getattribute__\u001b[39;49m\u001b[43m(\u001b[49m\u001b[38;5;28;43mself\u001b[39;49m\u001b[43m,\u001b[49m\u001b[43m \u001b[49m\u001b[43mname\u001b[49m\u001b[43m)\u001b[49m\n",
      "\u001b[1;31mAttributeError\u001b[0m: 'DataFrame' object has no attribute 'records'"
     ]
    }
   ],
   "source": [
    "{k: 0 for k in grouped_transactions.itertuples()}"
   ]
  },
  {
   "cell_type": "code",
   "execution_count": null,
   "id": "a69b7d54",
   "metadata": {},
   "outputs": [],
   "source": []
  }
 ],
 "metadata": {
  "kernelspec": {
   "display_name": "Python 3 (ipykernel)",
   "language": "python",
   "name": "python3"
  },
  "language_info": {
   "codemirror_mode": {
    "name": "ipython",
    "version": 3
   },
   "file_extension": ".py",
   "mimetype": "text/x-python",
   "name": "python",
   "nbconvert_exporter": "python",
   "pygments_lexer": "ipython3",
   "version": "3.10.5"
  }
 },
 "nbformat": 4,
 "nbformat_minor": 5
}
