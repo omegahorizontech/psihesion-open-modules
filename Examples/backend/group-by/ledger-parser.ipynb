{
 "cells": [
  {
   "cell_type": "markdown",
   "id": "bd82d564",
   "metadata": {},
   "source": [
    "### Problem Description\n",
    "\n",
    "Given a set of transaction records (in CSV format, for now), create distinct ledgers for the distinct entities indicated in the records. \n",
    "\n",
    "#### Example\n",
    "\n",
    "Date; Description; Credit; Debit; Entity; Ledger\n",
    "\n",
    "12-03-2022; GOOGLE SERVICES; ; 50; ANT; IRS  \n",
    "11-03-2022; GOOGLE SERVICES; ; 50; ANT; IRS  \n",
    "10-03-2022; GOOGLE SERVICES; ; 50; ANT; IRS  \n",
    "09-03-2022; GOOGLE SERVICES; ; 50; ANT; IRS  \n",
    "12-03-2022; ADOBE CREATIVE; ; 75; ANT; IRS  \n",
    "11-03-2022; ADOBE CREATIVE; ; 75; ANT; IRS  \n",
    "10-03-2022; ADOBE CREATIVE; ; 75; ANT; IRS  \n",
    "09-03-2022; ADOBE CREATIVE; ; 75; ANT; IRS  \n",
    "\n",
    "### Use Case\n",
    "\n",
    "- The user can upload a csv or 'target' a data source\n",
    "- Transactions that are 'similar' are automatically grouped together\n",
    "- The user can apply labels once to a single member of a group and it will propagate to other group members\n",
    "\n",
    "Example transaction files in biz-docs -> finances\n",
    "Helper methods available at https://github.com/omegahorizontech/psihesion/blob/main/app/backend/helpers/readers.py"
   ]
  },
  {
   "cell_type": "code",
   "execution_count": 1,
   "id": "bb0fae84",
   "metadata": {},
   "outputs": [],
   "source": [
    "import pandas as pd\n"
   ]
  },
  {
   "cell_type": "code",
   "execution_count": 2,
   "id": "c8c274ca",
   "metadata": {},
   "outputs": [
    {
     "name": "stdout",
     "output_type": "stream",
     "text": [
      "  POSTING DATE  DEPOSITS & OTHER CREDITS (+)  WITHDRAWALS & OTHER DEBITS (-)  \\\n",
      "0   2022-01-04                           NaN                            6.81   \n",
      "1   2022-02-04                           NaN                            1.81   \n",
      "2   2022-03-04                           NaN                            1.81   \n",
      "3   2022-04-04                           NaN                            1.81   \n",
      "4   2022-05-03                           NaN                            1.81   \n",
      "\n",
      "               TRANSACTION DESCRIPTION                Type  \n",
      "0  Amazon web services   aws.amazon.co  Service – Software  \n",
      "1  Amazon web services   aws.amazon.co  Service – Software  \n",
      "2  Amazon web services   aws.amazon.co  Service – Software  \n",
      "3  Amazon web services   aws.amazon.co  Service – Software  \n",
      "4  Amazon web services   aws.amazon.co  Service – Software  \n"
     ]
    }
   ],
   "source": [
    "transactions = pd.read_excel(\"OmegaHorizon-checking-2022Transactions.ods\", engine=\"odf\")\n",
    "print(transactions.head())"
   ]
  },
  {
   "cell_type": "code",
   "execution_count": 5,
   "id": "9bbaeefc",
   "metadata": {},
   "outputs": [
    {
     "name": "stdout",
     "output_type": "stream",
     "text": [
      "                                            COUNTS  DEPOSITS  DEBITS  GROUP_ID\n",
      "TRANSACTION DESCRIPTION                                                       \n",
      "Amazon web services   aws.amazon.co             14       0.0  109.72         0\n",
      "BUNDLE FEE WAIVER                               12     300.0    0.00         1\n",
      "GITHUB                HTTPSGITHUB.C             12       0.0   96.00         2\n",
      "INTUIT *QBooks Online CL.INTUIT.COM              6       0.0  180.00         3\n",
      "INTUIT *QuickBooks OnlCL.INTUIT.COM              6       0.0  150.00         4\n",
      "INTUIT *TURBOTAX      CL.INTUIT.COM              2       0.0  290.00         5\n",
      "NOUNPROJECT.COM       THENOUNPROJEC              1       0.0   39.99         6\n",
      "SERVICE CHARGE FOR ACCOUNT 000009872519609      12       0.0  300.00         7\n",
      "WARREN COUUNTY ONLINE 540-6352215                2       0.0   19.99         8\n",
      "WEB XFER FROM CHK 00009875147531                 2    1120.0    0.00         9\n",
      "WEB XFER TO CHK   00009875147531                 1       0.0  250.00        10\n"
     ]
    }
   ],
   "source": [
    "# Group Similar Transactions\n",
    "groups = transactions.groupby([\"TRANSACTION DESCRIPTION\"])\n",
    "group_info = pd.DataFrame()\n",
    "\n",
    "# Select Info to Display about Groups\n",
    "sums = groups.sum()\n",
    "group_info[\"COUNTS\"] = groups.count()[\"POSTING DATE\"]\n",
    "group_info[\"DEPOSITS\"] = sums[\"DEPOSITS & OTHER CREDITS (+)\"]\n",
    "group_info[\"DEBITS\"] = sums[\"WITHDRAWALS & OTHER DEBITS (-)\"]\n",
    "group_info = group_info.assign(GROUP_ID=pd.RangeIndex(len(group_info.index)))\n",
    "\n",
    "print(group_info)"
   ]
  },
  {
   "cell_type": "code",
   "execution_count": 7,
   "id": "7abc32b3",
   "metadata": {},
   "outputs": [
    {
     "name": "stdout",
     "output_type": "stream",
     "text": [
      "{'Amazon web services   aws.amazon.co': [0, 1, 2, 3, 4, 5, 6, 7, 8, 9, 10, 11, 12, 13], 'BUNDLE FEE WAIVER': [14, 15, 16, 17, 18, 19, 20, 21, 22, 23, 24, 25], 'GITHUB                HTTPSGITHUB.C': [26, 27, 28, 29, 30, 31, 32, 33, 34, 35, 36, 37], 'INTUIT *QBooks Online CL.INTUIT.COM': [38, 39, 40, 41, 42, 43], 'INTUIT *QuickBooks OnlCL.INTUIT.COM': [44, 45, 46, 47, 48, 49], 'INTUIT *TURBOTAX      CL.INTUIT.COM': [50, 51], 'NOUNPROJECT.COM       THENOUNPROJEC': [52], 'SERVICE CHARGE FOR ACCOUNT 000009872519609': [53, 54, 55, 56, 57, 58, 59, 60, 61, 62, 63, 64], 'WARREN COUUNTY ONLINE 540-6352215': [65, 66], 'WEB XFER FROM CHK 00009875147531': [67, 68], 'WEB XFER TO CHK   00009875147531': [69]}\n"
     ]
    }
   ],
   "source": [
    "print(groups.groups)\n",
    "# print(dir(groups))"
   ]
  },
  {
   "cell_type": "code",
   "execution_count": 10,
   "id": "d6b8094f",
   "metadata": {},
   "outputs": [
    {
     "name": "stdout",
     "output_type": "stream",
     "text": [
      "   POSTING DATE  DEPOSITS & OTHER CREDITS (+)  WITHDRAWALS & OTHER DEBITS (-)  \\\n",
      "0    2022-01-04                           NaN                            6.81   \n",
      "1    2022-02-04                           NaN                            1.81   \n",
      "2    2022-03-04                           NaN                            1.81   \n",
      "3    2022-04-04                           NaN                            1.81   \n",
      "4    2022-05-03                           NaN                            1.81   \n",
      "..          ...                           ...                             ...   \n",
      "65   2022-01-06                           NaN                           10.20   \n",
      "66   2022-06-21                           NaN                            9.79   \n",
      "67   2022-03-02                         620.0                             NaN   \n",
      "68   2022-12-29                         500.0                             NaN   \n",
      "69   2022-12-19                           NaN                          250.00   \n",
      "\n",
      "                TRANSACTION DESCRIPTION                                  Type  \\\n",
      "0   Amazon web services   aws.amazon.co                    Service – Software   \n",
      "1   Amazon web services   aws.amazon.co                    Service – Software   \n",
      "2   Amazon web services   aws.amazon.co                    Service – Software   \n",
      "3   Amazon web services   aws.amazon.co                    Service – Software   \n",
      "4   Amazon web services   aws.amazon.co                    Service – Software   \n",
      "..                                  ...                                   ...   \n",
      "65    WARREN COUUNTY ONLINE 540-6352215                                 Taxes   \n",
      "66    WARREN COUUNTY ONLINE 540-6352215                                 Taxes   \n",
      "67     WEB XFER FROM CHK 00009875147531   Member Contribution (50/50 BWC/NCB)   \n",
      "68     WEB XFER FROM CHK 00009875147531   Member Contribution (50/50 BWC/NCB)   \n",
      "69     WEB XFER TO CHK   00009875147531  Member Reimbursement (50/50 BWC/NCB)   \n",
      "\n",
      "    GROUP_ID  \n",
      "0          0  \n",
      "1          0  \n",
      "2          0  \n",
      "3          0  \n",
      "4          0  \n",
      "..       ...  \n",
      "65         8  \n",
      "66         8  \n",
      "67         9  \n",
      "68         9  \n",
      "69        10  \n",
      "\n",
      "[70 rows x 6 columns]\n"
     ]
    }
   ],
   "source": [
    "# group_info.assign(ID=pd.RangeIndex(len(group_info.index)))\n",
    "\n",
    "# grouped_transactions = transactions.join(groups.index)\n",
    "# grouped_transactions = transactions.assign(GROUP_ID=group_info[group_info.index == transactions[\"TRANSACTION DESCRIPTION\"]][\"GROUP_ID\"])\n",
    "grouped_transactions = transactions.join(group_info, on=\"TRANSACTION DESCRIPTION\").drop(columns=[\"COUNTS\", \"DEPOSITS\", \"DEBITS\"])\n",
    "\n",
    "print(grouped_transactions)"
   ]
  },
  {
   "cell_type": "code",
   "execution_count": 11,
   "id": "18640f7d",
   "metadata": {},
   "outputs": [
    {
     "name": "stdout",
     "output_type": "stream",
     "text": [
      "  POSTING DATE  DEPOSITS & OTHER CREDITS (+)  WITHDRAWALS & OTHER DEBITS (-)  \\\n",
      "0   2022-01-04                           NaN                            6.81   \n",
      "1   2022-02-04                           NaN                            1.81   \n",
      "2   2022-03-04                           NaN                            1.81   \n",
      "3   2022-04-04                           NaN                            1.81   \n",
      "4   2022-05-03                           NaN                            1.81   \n",
      "5   2022-06-06                           NaN                            1.81   \n",
      "6   2022-07-05                           NaN                            1.81   \n",
      "7   2022-08-04                           NaN                            1.81   \n",
      "8   2022-09-06                           NaN                            1.81   \n",
      "9   2022-09-30                           NaN                           71.00   \n",
      "\n",
      "               TRANSACTION DESCRIPTION                Type  GROUP_ID  \n",
      "0  Amazon web services   aws.amazon.co  Service – Software         0  \n",
      "1  Amazon web services   aws.amazon.co  Service – Software         0  \n",
      "2  Amazon web services   aws.amazon.co  Service – Software         0  \n",
      "3  Amazon web services   aws.amazon.co  Service – Software         0  \n",
      "4  Amazon web services   aws.amazon.co  Service – Software         0  \n",
      "5  Amazon web services   aws.amazon.co  Service – Software         0  \n",
      "6  Amazon web services   aws.amazon.co  Service – Software         0  \n",
      "7  Amazon web services   aws.amazon.co  Service – Software         0  \n",
      "8  Amazon web services   aws.amazon.co  Service – Software         0  \n",
      "9  Amazon web services   aws.amazon.co  Service – Software         0  \n"
     ]
    }
   ],
   "source": [
    "# grouped_transactions.index = grouped_transactions[\"GROUP_ID\"]\n",
    "\n",
    "print(grouped_transactions.head(10))"
   ]
  },
  {
   "cell_type": "code",
   "execution_count": 26,
   "id": "d952c42b",
   "metadata": {},
   "outputs": [
    {
     "name": "stdout",
     "output_type": "stream",
     "text": [
      "{'Amazon web services   aws.amazon.co': [0, 1, 2, 3, 4, 5, 6, 7, 8, 9, 10, 11, 12, 13], 'BUNDLE FEE WAIVER': [14, 15, 16, 17, 18, 19, 20, 21, 22, 23, 24, 25], 'GITHUB                HTTPSGITHUB.C': [26, 27, 28, 29, 30, 31, 32, 33, 34, 35, 36, 37], 'INTUIT *QBooks Online CL.INTUIT.COM': [38, 39, 40, 41, 42, 43], 'INTUIT *QuickBooks OnlCL.INTUIT.COM': [44, 45, 46, 47, 48, 49], 'INTUIT *TURBOTAX      CL.INTUIT.COM': [50, 51], 'NOUNPROJECT.COM       THENOUNPROJEC': [52], 'SERVICE CHARGE FOR ACCOUNT 000009872519609': [53, 54, 55, 56, 57, 58, 59, 60, 61, 62, 63, 64], 'WARREN COUUNTY ONLINE 540-6352215': [65, 66], 'WEB XFER FROM CHK 00009875147531': [67, 68], 'WEB XFER TO CHK   00009875147531': [69]}\n",
      "[{'name': 'Amazon web services   aws.amazon.co', 'summary': '{\"COUNTS\":14.0,\"DEPOSITS\":0.0,\"DEBITS\":109.72,\"GROUP_ID\":0.0}', 'transactions': '[{\"POSTING DATE\":1641254400000,\"DEPOSITS & OTHER CREDITS (+)\":null,\"WITHDRAWALS & OTHER DEBITS (-)\":6.81,\"TRANSACTION DESCRIPTION\":\"Amazon web services   aws.amazon.co\",\"Type\":\"Service \\\\u2013 Software\"},{\"POSTING DATE\":1643932800000,\"DEPOSITS & OTHER CREDITS (+)\":null,\"WITHDRAWALS & OTHER DEBITS (-)\":1.81,\"TRANSACTION DESCRIPTION\":\"Amazon web services   aws.amazon.co\",\"Type\":\"Service \\\\u2013 Software\"},{\"POSTING DATE\":1646352000000,\"DEPOSITS & OTHER CREDITS (+)\":null,\"WITHDRAWALS & OTHER DEBITS (-)\":1.81,\"TRANSACTION DESCRIPTION\":\"Amazon web services   aws.amazon.co\",\"Type\":\"Service \\\\u2013 Software\"},{\"POSTING DATE\":1649030400000,\"DEPOSITS & OTHER CREDITS (+)\":null,\"WITHDRAWALS & OTHER DEBITS (-)\":1.81,\"TRANSACTION DESCRIPTION\":\"Amazon web services   aws.amazon.co\",\"Type\":\"Service \\\\u2013 Software\"},{\"POSTING DATE\":1651536000000,\"DEPOSITS & OTHER CREDITS (+)\":null,\"WITHDRAWALS & OTHER DEBITS (-)\":1.81,\"TRANSACTION DESCRIPTION\":\"Amazon web services   aws.amazon.co\",\"Type\":\"Service \\\\u2013 Software\"},{\"POSTING DATE\":1654473600000,\"DEPOSITS & OTHER CREDITS (+)\":null,\"WITHDRAWALS & OTHER DEBITS (-)\":1.81,\"TRANSACTION DESCRIPTION\":\"Amazon web services   aws.amazon.co\",\"Type\":\"Service \\\\u2013 Software\"},{\"POSTING DATE\":1656979200000,\"DEPOSITS & OTHER CREDITS (+)\":null,\"WITHDRAWALS & OTHER DEBITS (-)\":1.81,\"TRANSACTION DESCRIPTION\":\"Amazon web services   aws.amazon.co\",\"Type\":\"Service \\\\u2013 Software\"},{\"POSTING DATE\":1659571200000,\"DEPOSITS & OTHER CREDITS (+)\":null,\"WITHDRAWALS & OTHER DEBITS (-)\":1.81,\"TRANSACTION DESCRIPTION\":\"Amazon web services   aws.amazon.co\",\"Type\":\"Service \\\\u2013 Software\"},{\"POSTING DATE\":1662422400000,\"DEPOSITS & OTHER CREDITS (+)\":null,\"WITHDRAWALS & OTHER DEBITS (-)\":1.81,\"TRANSACTION DESCRIPTION\":\"Amazon web services   aws.amazon.co\",\"Type\":\"Service \\\\u2013 Software\"},{\"POSTING DATE\":1664496000000,\"DEPOSITS & OTHER CREDITS (+)\":null,\"WITHDRAWALS & OTHER DEBITS (-)\":71.0,\"TRANSACTION DESCRIPTION\":\"Amazon web services   aws.amazon.co\",\"Type\":\"Service \\\\u2013 Software\"},{\"POSTING DATE\":1664755200000,\"DEPOSITS & OTHER CREDITS (+)\":null,\"WITHDRAWALS & OTHER DEBITS (-)\":12.0,\"TRANSACTION DESCRIPTION\":\"Amazon web services   aws.amazon.co\",\"Type\":\"Service \\\\u2013 Software\"},{\"POSTING DATE\":1664755200000,\"DEPOSITS & OTHER CREDITS (+)\":null,\"WITHDRAWALS & OTHER DEBITS (-)\":1.81,\"TRANSACTION DESCRIPTION\":\"Amazon web services   aws.amazon.co\",\"Type\":\"Service \\\\u2013 Software\"},{\"POSTING DATE\":1667433600000,\"DEPOSITS & OTHER CREDITS (+)\":null,\"WITHDRAWALS & OTHER DEBITS (-)\":1.81,\"TRANSACTION DESCRIPTION\":\"Amazon web services   aws.amazon.co\",\"Type\":\"Service \\\\u2013 Software\"},{\"POSTING DATE\":1670198400000,\"DEPOSITS & OTHER CREDITS (+)\":null,\"WITHDRAWALS & OTHER DEBITS (-)\":1.81,\"TRANSACTION DESCRIPTION\":\"Amazon web services   aws.amazon.co\",\"Type\":\"Service \\\\u2013 Software\"}]'}, {'name': 'BUNDLE FEE WAIVER', 'summary': '{\"COUNTS\":12.0,\"DEPOSITS\":300.0,\"DEBITS\":0.0,\"GROUP_ID\":1.0}', 'transactions': '[{\"POSTING DATE\":1641772800000,\"DEPOSITS & OTHER CREDITS (+)\":25.0,\"WITHDRAWALS & OTHER DEBITS (-)\":null,\"TRANSACTION DESCRIPTION\":\"BUNDLE FEE WAIVER\",\"Type\":\"Income \\\\u2013 Bank Reimbursement\"},{\"POSTING DATE\":1644278400000,\"DEPOSITS & OTHER CREDITS (+)\":25.0,\"WITHDRAWALS & OTHER DEBITS (-)\":null,\"TRANSACTION DESCRIPTION\":\"BUNDLE FEE WAIVER\",\"Type\":\"Income \\\\u2013 Bank Reimbursement\"},{\"POSTING DATE\":1646697600000,\"DEPOSITS & OTHER CREDITS (+)\":25.0,\"WITHDRAWALS & OTHER DEBITS (-)\":null,\"TRANSACTION DESCRIPTION\":\"BUNDLE FEE WAIVER\",\"Type\":\"Income \\\\u2013 Bank Reimbursement\"},{\"POSTING DATE\":1649376000000,\"DEPOSITS & OTHER CREDITS (+)\":25.0,\"WITHDRAWALS & OTHER DEBITS (-)\":null,\"TRANSACTION DESCRIPTION\":\"BUNDLE FEE WAIVER\",\"Type\":\"Income \\\\u2013 Bank Reimbursement\"},{\"POSTING DATE\":1652054400000,\"DEPOSITS & OTHER CREDITS (+)\":25.0,\"WITHDRAWALS & OTHER DEBITS (-)\":null,\"TRANSACTION DESCRIPTION\":\"BUNDLE FEE WAIVER\",\"Type\":\"Income \\\\u2013 Bank Reimbursement\"},{\"POSTING DATE\":1654646400000,\"DEPOSITS & OTHER CREDITS (+)\":25.0,\"WITHDRAWALS & OTHER DEBITS (-)\":null,\"TRANSACTION DESCRIPTION\":\"BUNDLE FEE WAIVER\",\"Type\":\"Income \\\\u2013 Bank Reimbursement\"},{\"POSTING DATE\":1657497600000,\"DEPOSITS & OTHER CREDITS (+)\":25.0,\"WITHDRAWALS & OTHER DEBITS (-)\":null,\"TRANSACTION DESCRIPTION\":\"BUNDLE FEE WAIVER\",\"Type\":\"Income \\\\u2013 Bank Reimbursement\"},{\"POSTING DATE\":1659916800000,\"DEPOSITS & OTHER CREDITS (+)\":25.0,\"WITHDRAWALS & OTHER DEBITS (-)\":null,\"TRANSACTION DESCRIPTION\":\"BUNDLE FEE WAIVER\",\"Type\":\"Income \\\\u2013 Bank Reimbursement\"},{\"POSTING DATE\":1662681600000,\"DEPOSITS & OTHER CREDITS (+)\":25.0,\"WITHDRAWALS & OTHER DEBITS (-)\":null,\"TRANSACTION DESCRIPTION\":\"BUNDLE FEE WAIVER\",\"Type\":\"Income \\\\u2013 Bank Reimbursement\"},{\"POSTING DATE\":1665705600000,\"DEPOSITS & OTHER CREDITS (+)\":25.0,\"WITHDRAWALS & OTHER DEBITS (-)\":null,\"TRANSACTION DESCRIPTION\":\"BUNDLE FEE WAIVER\",\"Type\":\"Income \\\\u2013 Bank Reimbursement\"},{\"POSTING DATE\":1667865600000,\"DEPOSITS & OTHER CREDITS (+)\":25.0,\"WITHDRAWALS & OTHER DEBITS (-)\":null,\"TRANSACTION DESCRIPTION\":\"BUNDLE FEE WAIVER\",\"Type\":\"Income \\\\u2013 Bank Reimbursement\"},{\"POSTING DATE\":1670457600000,\"DEPOSITS & OTHER CREDITS (+)\":25.0,\"WITHDRAWALS & OTHER DEBITS (-)\":null,\"TRANSACTION DESCRIPTION\":\"BUNDLE FEE WAIVER\",\"Type\":\"Income \\\\u2013 Bank Reimbursement\"}]'}, {'name': 'GITHUB                HTTPSGITHUB.C', 'summary': '{\"COUNTS\":12.0,\"DEPOSITS\":0.0,\"DEBITS\":96.0,\"GROUP_ID\":2.0}', 'transactions': '[{\"POSTING DATE\":1641772800000,\"DEPOSITS & OTHER CREDITS (+)\":null,\"WITHDRAWALS & OTHER DEBITS (-)\":8.0,\"TRANSACTION DESCRIPTION\":\"GITHUB                HTTPSGITHUB.C\",\"Type\":\"Service \\\\u2013 Software\"},{\"POSTING DATE\":1644364800000,\"DEPOSITS & OTHER CREDITS (+)\":null,\"WITHDRAWALS & OTHER DEBITS (-)\":8.0,\"TRANSACTION DESCRIPTION\":\"GITHUB                HTTPSGITHUB.C\",\"Type\":\"Service \\\\u2013 Software\"},{\"POSTING DATE\":1646784000000,\"DEPOSITS & OTHER CREDITS (+)\":null,\"WITHDRAWALS & OTHER DEBITS (-)\":8.0,\"TRANSACTION DESCRIPTION\":\"GITHUB                HTTPSGITHUB.C\",\"Type\":\"Service \\\\u2013 Software\"},{\"POSTING DATE\":1649635200000,\"DEPOSITS & OTHER CREDITS (+)\":null,\"WITHDRAWALS & OTHER DEBITS (-)\":8.0,\"TRANSACTION DESCRIPTION\":\"GITHUB                HTTPSGITHUB.C\",\"Type\":\"Service \\\\u2013 Software\"},{\"POSTING DATE\":1652054400000,\"DEPOSITS & OTHER CREDITS (+)\":null,\"WITHDRAWALS & OTHER DEBITS (-)\":8.0,\"TRANSACTION DESCRIPTION\":\"GITHUB                HTTPSGITHUB.C\",\"Type\":\"Service \\\\u2013 Software\"},{\"POSTING DATE\":1654732800000,\"DEPOSITS & OTHER CREDITS (+)\":null,\"WITHDRAWALS & OTHER DEBITS (-)\":8.0,\"TRANSACTION DESCRIPTION\":\"GITHUB                HTTPSGITHUB.C\",\"Type\":\"Service \\\\u2013 Software\"},{\"POSTING DATE\":1657497600000,\"DEPOSITS & OTHER CREDITS (+)\":null,\"WITHDRAWALS & OTHER DEBITS (-)\":8.0,\"TRANSACTION DESCRIPTION\":\"GITHUB                HTTPSGITHUB.C\",\"Type\":\"Service \\\\u2013 Software\"},{\"POSTING DATE\":1660003200000,\"DEPOSITS & OTHER CREDITS (+)\":null,\"WITHDRAWALS & OTHER DEBITS (-)\":8.0,\"TRANSACTION DESCRIPTION\":\"GITHUB                HTTPSGITHUB.C\",\"Type\":\"Service \\\\u2013 Software\"},{\"POSTING DATE\":1662681600000,\"DEPOSITS & OTHER CREDITS (+)\":null,\"WITHDRAWALS & OTHER DEBITS (-)\":8.0,\"TRANSACTION DESCRIPTION\":\"GITHUB                HTTPSGITHUB.C\",\"Type\":\"Service \\\\u2013 Software\"},{\"POSTING DATE\":1665446400000,\"DEPOSITS & OTHER CREDITS (+)\":null,\"WITHDRAWALS & OTHER DEBITS (-)\":8.0,\"TRANSACTION DESCRIPTION\":\"GITHUB                HTTPSGITHUB.C\",\"Type\":\"Service \\\\u2013 Software\"},{\"POSTING DATE\":1667952000000,\"DEPOSITS & OTHER CREDITS (+)\":null,\"WITHDRAWALS & OTHER DEBITS (-)\":8.0,\"TRANSACTION DESCRIPTION\":\"GITHUB                HTTPSGITHUB.C\",\"Type\":\"Service \\\\u2013 Software\"},{\"POSTING DATE\":1670544000000,\"DEPOSITS & OTHER CREDITS (+)\":null,\"WITHDRAWALS & OTHER DEBITS (-)\":8.0,\"TRANSACTION DESCRIPTION\":\"GITHUB                HTTPSGITHUB.C\",\"Type\":\"Service \\\\u2013 Software\"}]'}, {'name': 'INTUIT *QBooks Online CL.INTUIT.COM', 'summary': '{\"COUNTS\":6.0,\"DEPOSITS\":0.0,\"DEBITS\":180.0,\"GROUP_ID\":3.0}', 'transactions': '[{\"POSTING DATE\":1657497600000,\"DEPOSITS & OTHER CREDITS (+)\":null,\"WITHDRAWALS & OTHER DEBITS (-)\":30.0,\"TRANSACTION DESCRIPTION\":\"INTUIT *QBooks Online CL.INTUIT.COM\",\"Type\":\"Service \\\\u2013 Software\"},{\"POSTING DATE\":1660003200000,\"DEPOSITS & OTHER CREDITS (+)\":null,\"WITHDRAWALS & OTHER DEBITS (-)\":30.0,\"TRANSACTION DESCRIPTION\":\"INTUIT *QBooks Online CL.INTUIT.COM\",\"Type\":\"Service \\\\u2013 Software\"},{\"POSTING DATE\":1662681600000,\"DEPOSITS & OTHER CREDITS (+)\":null,\"WITHDRAWALS & OTHER DEBITS (-)\":30.0,\"TRANSACTION DESCRIPTION\":\"INTUIT *QBooks Online CL.INTUIT.COM\",\"Type\":\"Service \\\\u2013 Software\"},{\"POSTING DATE\":1665446400000,\"DEPOSITS & OTHER CREDITS (+)\":null,\"WITHDRAWALS & OTHER DEBITS (-)\":30.0,\"TRANSACTION DESCRIPTION\":\"INTUIT *QBooks Online CL.INTUIT.COM\",\"Type\":\"Service \\\\u2013 Software\"},{\"POSTING DATE\":1667952000000,\"DEPOSITS & OTHER CREDITS (+)\":null,\"WITHDRAWALS & OTHER DEBITS (-)\":30.0,\"TRANSACTION DESCRIPTION\":\"INTUIT *QBooks Online CL.INTUIT.COM\",\"Type\":\"Service \\\\u2013 Software\"},{\"POSTING DATE\":1670544000000,\"DEPOSITS & OTHER CREDITS (+)\":null,\"WITHDRAWALS & OTHER DEBITS (-)\":30.0,\"TRANSACTION DESCRIPTION\":\"INTUIT *QBooks Online CL.INTUIT.COM\",\"Type\":\"Service \\\\u2013 Software\"}]'}, {'name': 'INTUIT *QuickBooks OnlCL.INTUIT.COM', 'summary': '{\"COUNTS\":6.0,\"DEPOSITS\":0.0,\"DEBITS\":150.0,\"GROUP_ID\":4.0}', 'transactions': '[{\"POSTING DATE\":1641772800000,\"DEPOSITS & OTHER CREDITS (+)\":null,\"WITHDRAWALS & OTHER DEBITS (-)\":25.0,\"TRANSACTION DESCRIPTION\":\"INTUIT *QuickBooks OnlCL.INTUIT.COM\",\"Type\":\"Service \\\\u2013 Software\"},{\"POSTING DATE\":1644364800000,\"DEPOSITS & OTHER CREDITS (+)\":null,\"WITHDRAWALS & OTHER DEBITS (-)\":25.0,\"TRANSACTION DESCRIPTION\":\"INTUIT *QuickBooks OnlCL.INTUIT.COM\",\"Type\":\"Service \\\\u2013 Software\"},{\"POSTING DATE\":1646784000000,\"DEPOSITS & OTHER CREDITS (+)\":null,\"WITHDRAWALS & OTHER DEBITS (-)\":25.0,\"TRANSACTION DESCRIPTION\":\"INTUIT *QuickBooks OnlCL.INTUIT.COM\",\"Type\":\"Service \\\\u2013 Software\"},{\"POSTING DATE\":1649635200000,\"DEPOSITS & OTHER CREDITS (+)\":null,\"WITHDRAWALS & OTHER DEBITS (-)\":25.0,\"TRANSACTION DESCRIPTION\":\"INTUIT *QuickBooks OnlCL.INTUIT.COM\",\"Type\":\"Service \\\\u2013 Software\"},{\"POSTING DATE\":1652054400000,\"DEPOSITS & OTHER CREDITS (+)\":null,\"WITHDRAWALS & OTHER DEBITS (-)\":25.0,\"TRANSACTION DESCRIPTION\":\"INTUIT *QuickBooks OnlCL.INTUIT.COM\",\"Type\":\"Service \\\\u2013 Software\"},{\"POSTING DATE\":1654732800000,\"DEPOSITS & OTHER CREDITS (+)\":null,\"WITHDRAWALS & OTHER DEBITS (-)\":25.0,\"TRANSACTION DESCRIPTION\":\"INTUIT *QuickBooks OnlCL.INTUIT.COM\",\"Type\":\"Service \\\\u2013 Software\"}]'}, {'name': 'INTUIT *TURBOTAX      CL.INTUIT.COM', 'summary': '{\"COUNTS\":2.0,\"DEPOSITS\":0.0,\"DEBITS\":290.0,\"GROUP_ID\":5.0}', 'transactions': '[{\"POSTING DATE\":1646611200000,\"DEPOSITS & OTHER CREDITS (+)\":null,\"WITHDRAWALS & OTHER DEBITS (-)\":120.0,\"TRANSACTION DESCRIPTION\":\"INTUIT *TURBOTAX      CL.INTUIT.COM\",\"Type\":\"Service \\\\u2013 Software\"},{\"POSTING DATE\":1646611200000,\"DEPOSITS & OTHER CREDITS (+)\":null,\"WITHDRAWALS & OTHER DEBITS (-)\":170.0,\"TRANSACTION DESCRIPTION\":\"INTUIT *TURBOTAX      CL.INTUIT.COM\",\"Type\":\"Service \\\\u2013 Software\"}]'}, {'name': 'NOUNPROJECT.COM       THENOUNPROJEC', 'summary': '{\"COUNTS\":1.0,\"DEPOSITS\":0.0,\"DEBITS\":39.99,\"GROUP_ID\":6.0}', 'transactions': '[{\"POSTING DATE\":1646006400000,\"DEPOSITS & OTHER CREDITS (+)\":null,\"WITHDRAWALS & OTHER DEBITS (-)\":39.99,\"TRANSACTION DESCRIPTION\":\"NOUNPROJECT.COM       THENOUNPROJEC\",\"Type\":\"Service \\\\u2013 Software\"}]'}, {'name': 'SERVICE CHARGE FOR ACCOUNT 000009872519609', 'summary': '{\"COUNTS\":12.0,\"DEPOSITS\":0.0,\"DEBITS\":300.0,\"GROUP_ID\":7.0}', 'transactions': '[{\"POSTING DATE\":1641772800000,\"DEPOSITS & OTHER CREDITS (+)\":null,\"WITHDRAWALS & OTHER DEBITS (-)\":25.0,\"TRANSACTION DESCRIPTION\":\"SERVICE CHARGE FOR ACCOUNT 000009872519609\",\"Type\":\"Expense \\\\u2013 Bank Fee\"},{\"POSTING DATE\":1644278400000,\"DEPOSITS & OTHER CREDITS (+)\":null,\"WITHDRAWALS & OTHER DEBITS (-)\":25.0,\"TRANSACTION DESCRIPTION\":\"SERVICE CHARGE FOR ACCOUNT 000009872519609\",\"Type\":\"Expense \\\\u2013 Bank Fee\"},{\"POSTING DATE\":1646697600000,\"DEPOSITS & OTHER CREDITS (+)\":null,\"WITHDRAWALS & OTHER DEBITS (-)\":25.0,\"TRANSACTION DESCRIPTION\":\"SERVICE CHARGE FOR ACCOUNT 000009872519609\",\"Type\":\"Expense \\\\u2013 Bank Fee\"},{\"POSTING DATE\":1649376000000,\"DEPOSITS & OTHER CREDITS (+)\":null,\"WITHDRAWALS & OTHER DEBITS (-)\":25.0,\"TRANSACTION DESCRIPTION\":\"SERVICE CHARGE FOR ACCOUNT 000009872519609\",\"Type\":\"Expense \\\\u2013 Bank Fee\"},{\"POSTING DATE\":1652054400000,\"DEPOSITS & OTHER CREDITS (+)\":null,\"WITHDRAWALS & OTHER DEBITS (-)\":25.0,\"TRANSACTION DESCRIPTION\":\"SERVICE CHARGE FOR ACCOUNT 000009872519609\",\"Type\":\"Expense \\\\u2013 Bank Fee\"},{\"POSTING DATE\":1654646400000,\"DEPOSITS & OTHER CREDITS (+)\":null,\"WITHDRAWALS & OTHER DEBITS (-)\":25.0,\"TRANSACTION DESCRIPTION\":\"SERVICE CHARGE FOR ACCOUNT 000009872519609\",\"Type\":\"Expense \\\\u2013 Bank Fee\"},{\"POSTING DATE\":1657497600000,\"DEPOSITS & OTHER CREDITS (+)\":null,\"WITHDRAWALS & OTHER DEBITS (-)\":25.0,\"TRANSACTION DESCRIPTION\":\"SERVICE CHARGE FOR ACCOUNT 000009872519609\",\"Type\":\"Expense \\\\u2013 Bank Fee\"},{\"POSTING DATE\":1659916800000,\"DEPOSITS & OTHER CREDITS (+)\":null,\"WITHDRAWALS & OTHER DEBITS (-)\":25.0,\"TRANSACTION DESCRIPTION\":\"SERVICE CHARGE FOR ACCOUNT 000009872519609\",\"Type\":\"Expense \\\\u2013 Bank Fee\"},{\"POSTING DATE\":1662681600000,\"DEPOSITS & OTHER CREDITS (+)\":null,\"WITHDRAWALS & OTHER DEBITS (-)\":25.0,\"TRANSACTION DESCRIPTION\":\"SERVICE CHARGE FOR ACCOUNT 000009872519609\",\"Type\":\"Expense \\\\u2013 Bank Fee\"},{\"POSTING DATE\":1665705600000,\"DEPOSITS & OTHER CREDITS (+)\":null,\"WITHDRAWALS & OTHER DEBITS (-)\":25.0,\"TRANSACTION DESCRIPTION\":\"SERVICE CHARGE FOR ACCOUNT 000009872519609\",\"Type\":\"Expense \\\\u2013 Bank Fee\"},{\"POSTING DATE\":1667865600000,\"DEPOSITS & OTHER CREDITS (+)\":null,\"WITHDRAWALS & OTHER DEBITS (-)\":25.0,\"TRANSACTION DESCRIPTION\":\"SERVICE CHARGE FOR ACCOUNT 000009872519609\",\"Type\":\"Expense \\\\u2013 Bank Fee\"},{\"POSTING DATE\":1670457600000,\"DEPOSITS & OTHER CREDITS (+)\":null,\"WITHDRAWALS & OTHER DEBITS (-)\":25.0,\"TRANSACTION DESCRIPTION\":\"SERVICE CHARGE FOR ACCOUNT 000009872519609\",\"Type\":\"Expense \\\\u2013 Bank Fee\"}]'}, {'name': 'WARREN COUUNTY ONLINE 540-6352215', 'summary': '{\"COUNTS\":2.0,\"DEPOSITS\":0.0,\"DEBITS\":19.99,\"GROUP_ID\":8.0}', 'transactions': '[{\"POSTING DATE\":1641427200000,\"DEPOSITS & OTHER CREDITS (+)\":null,\"WITHDRAWALS & OTHER DEBITS (-)\":10.2,\"TRANSACTION DESCRIPTION\":\"WARREN COUUNTY ONLINE 540-6352215\",\"Type\":\"Taxes\"},{\"POSTING DATE\":1655769600000,\"DEPOSITS & OTHER CREDITS (+)\":null,\"WITHDRAWALS & OTHER DEBITS (-)\":9.79,\"TRANSACTION DESCRIPTION\":\"WARREN COUUNTY ONLINE 540-6352215\",\"Type\":\"Taxes\"}]'}, {'name': 'WEB XFER FROM CHK 00009875147531', 'summary': '{\"COUNTS\":2.0,\"DEPOSITS\":1120.0,\"DEBITS\":0.0,\"GROUP_ID\":9.0}', 'transactions': '[{\"POSTING DATE\":1646179200000,\"DEPOSITS & OTHER CREDITS (+)\":620.0,\"WITHDRAWALS & OTHER DEBITS (-)\":null,\"TRANSACTION DESCRIPTION\":\"WEB XFER FROM CHK 00009875147531\",\"Type\":\"Member Contribution (50\\\\/50 BWC\\\\/NCB)\"},{\"POSTING DATE\":1672272000000,\"DEPOSITS & OTHER CREDITS (+)\":500.0,\"WITHDRAWALS & OTHER DEBITS (-)\":null,\"TRANSACTION DESCRIPTION\":\"WEB XFER FROM CHK 00009875147531\",\"Type\":\"Member Contribution (50\\\\/50 BWC\\\\/NCB)\"}]'}, {'name': 'WEB XFER TO CHK   00009875147531', 'summary': '{\"COUNTS\":1.0,\"DEPOSITS\":0.0,\"DEBITS\":250.0,\"GROUP_ID\":10.0}', 'transactions': '[{\"POSTING DATE\":1671408000000,\"DEPOSITS & OTHER CREDITS (+)\":null,\"WITHDRAWALS & OTHER DEBITS (-)\":250.0,\"TRANSACTION DESCRIPTION\":\"WEB XFER TO CHK   00009875147531\",\"Type\":\"Member Reimbursement (50\\\\/50 BWC\\\\/NCB)\"}]'}]\n"
     ]
    }
   ],
   "source": [
    "# {k: 0 for k in grouped_transactions.itertuples()}\n",
    "print(groups.groups)\n",
    "\n",
    "parsed_trxns = [{\n",
    "    \"name\": k,\n",
    "    \"summary\": group_info.loc[k].to_json(),\n",
    "    \"transactions\": transactions.iloc[v].to_json(orient='records'),\n",
    "    \"tags\": []\n",
    "} for k, v in groups.groups.items()]\n",
    "\n",
    "print(parsed_trxns)"
   ]
  },
  {
   "cell_type": "code",
   "execution_count": 28,
   "id": "a69b7d54",
   "metadata": {},
   "outputs": [
    {
     "name": "stdout",
     "output_type": "stream",
     "text": [
      "[{\"name\": \"Amazon web services   aws.amazon.co\", \"summary\": \"{\\\"COUNTS\\\":14.0,\\\"DEPOSITS\\\":0.0,\\\"DEBITS\\\":109.72,\\\"GROUP_ID\\\":0.0}\", \"transactions\": \"[{\\\"POSTING DATE\\\":1641254400000,\\\"DEPOSITS & OTHER CREDITS (+)\\\":null,\\\"WITHDRAWALS & OTHER DEBITS (-)\\\":6.81,\\\"TRANSACTION DESCRIPTION\\\":\\\"Amazon web services   aws.amazon.co\\\",\\\"Type\\\":\\\"Service \\\\u2013 Software\\\"},{\\\"POSTING DATE\\\":1643932800000,\\\"DEPOSITS & OTHER CREDITS (+)\\\":null,\\\"WITHDRAWALS & OTHER DEBITS (-)\\\":1.81,\\\"TRANSACTION DESCRIPTION\\\":\\\"Amazon web services   aws.amazon.co\\\",\\\"Type\\\":\\\"Service \\\\u2013 Software\\\"},{\\\"POSTING DATE\\\":1646352000000,\\\"DEPOSITS & OTHER CREDITS (+)\\\":null,\\\"WITHDRAWALS & OTHER DEBITS (-)\\\":1.81,\\\"TRANSACTION DESCRIPTION\\\":\\\"Amazon web services   aws.amazon.co\\\",\\\"Type\\\":\\\"Service \\\\u2013 Software\\\"},{\\\"POSTING DATE\\\":1649030400000,\\\"DEPOSITS & OTHER CREDITS (+)\\\":null,\\\"WITHDRAWALS & OTHER DEBITS (-)\\\":1.81,\\\"TRANSACTION DESCRIPTION\\\":\\\"Amazon web services   aws.amazon.co\\\",\\\"Type\\\":\\\"Service \\\\u2013 Software\\\"},{\\\"POSTING DATE\\\":1651536000000,\\\"DEPOSITS & OTHER CREDITS (+)\\\":null,\\\"WITHDRAWALS & OTHER DEBITS (-)\\\":1.81,\\\"TRANSACTION DESCRIPTION\\\":\\\"Amazon web services   aws.amazon.co\\\",\\\"Type\\\":\\\"Service \\\\u2013 Software\\\"},{\\\"POSTING DATE\\\":1654473600000,\\\"DEPOSITS & OTHER CREDITS (+)\\\":null,\\\"WITHDRAWALS & OTHER DEBITS (-)\\\":1.81,\\\"TRANSACTION DESCRIPTION\\\":\\\"Amazon web services   aws.amazon.co\\\",\\\"Type\\\":\\\"Service \\\\u2013 Software\\\"},{\\\"POSTING DATE\\\":1656979200000,\\\"DEPOSITS & OTHER CREDITS (+)\\\":null,\\\"WITHDRAWALS & OTHER DEBITS (-)\\\":1.81,\\\"TRANSACTION DESCRIPTION\\\":\\\"Amazon web services   aws.amazon.co\\\",\\\"Type\\\":\\\"Service \\\\u2013 Software\\\"},{\\\"POSTING DATE\\\":1659571200000,\\\"DEPOSITS & OTHER CREDITS (+)\\\":null,\\\"WITHDRAWALS & OTHER DEBITS (-)\\\":1.81,\\\"TRANSACTION DESCRIPTION\\\":\\\"Amazon web services   aws.amazon.co\\\",\\\"Type\\\":\\\"Service \\\\u2013 Software\\\"},{\\\"POSTING DATE\\\":1662422400000,\\\"DEPOSITS & OTHER CREDITS (+)\\\":null,\\\"WITHDRAWALS & OTHER DEBITS (-)\\\":1.81,\\\"TRANSACTION DESCRIPTION\\\":\\\"Amazon web services   aws.amazon.co\\\",\\\"Type\\\":\\\"Service \\\\u2013 Software\\\"},{\\\"POSTING DATE\\\":1664496000000,\\\"DEPOSITS & OTHER CREDITS (+)\\\":null,\\\"WITHDRAWALS & OTHER DEBITS (-)\\\":71.0,\\\"TRANSACTION DESCRIPTION\\\":\\\"Amazon web services   aws.amazon.co\\\",\\\"Type\\\":\\\"Service \\\\u2013 Software\\\"},{\\\"POSTING DATE\\\":1664755200000,\\\"DEPOSITS & OTHER CREDITS (+)\\\":null,\\\"WITHDRAWALS & OTHER DEBITS (-)\\\":12.0,\\\"TRANSACTION DESCRIPTION\\\":\\\"Amazon web services   aws.amazon.co\\\",\\\"Type\\\":\\\"Service \\\\u2013 Software\\\"},{\\\"POSTING DATE\\\":1664755200000,\\\"DEPOSITS & OTHER CREDITS (+)\\\":null,\\\"WITHDRAWALS & OTHER DEBITS (-)\\\":1.81,\\\"TRANSACTION DESCRIPTION\\\":\\\"Amazon web services   aws.amazon.co\\\",\\\"Type\\\":\\\"Service \\\\u2013 Software\\\"},{\\\"POSTING DATE\\\":1667433600000,\\\"DEPOSITS & OTHER CREDITS (+)\\\":null,\\\"WITHDRAWALS & OTHER DEBITS (-)\\\":1.81,\\\"TRANSACTION DESCRIPTION\\\":\\\"Amazon web services   aws.amazon.co\\\",\\\"Type\\\":\\\"Service \\\\u2013 Software\\\"},{\\\"POSTING DATE\\\":1670198400000,\\\"DEPOSITS & OTHER CREDITS (+)\\\":null,\\\"WITHDRAWALS & OTHER DEBITS (-)\\\":1.81,\\\"TRANSACTION DESCRIPTION\\\":\\\"Amazon web services   aws.amazon.co\\\",\\\"Type\\\":\\\"Service \\\\u2013 Software\\\"}]\"}, {\"name\": \"BUNDLE FEE WAIVER\", \"summary\": \"{\\\"COUNTS\\\":12.0,\\\"DEPOSITS\\\":300.0,\\\"DEBITS\\\":0.0,\\\"GROUP_ID\\\":1.0}\", \"transactions\": \"[{\\\"POSTING DATE\\\":1641772800000,\\\"DEPOSITS & OTHER CREDITS (+)\\\":25.0,\\\"WITHDRAWALS & OTHER DEBITS (-)\\\":null,\\\"TRANSACTION DESCRIPTION\\\":\\\"BUNDLE FEE WAIVER\\\",\\\"Type\\\":\\\"Income \\\\u2013 Bank Reimbursement\\\"},{\\\"POSTING DATE\\\":1644278400000,\\\"DEPOSITS & OTHER CREDITS (+)\\\":25.0,\\\"WITHDRAWALS & OTHER DEBITS (-)\\\":null,\\\"TRANSACTION DESCRIPTION\\\":\\\"BUNDLE FEE WAIVER\\\",\\\"Type\\\":\\\"Income \\\\u2013 Bank Reimbursement\\\"},{\\\"POSTING DATE\\\":1646697600000,\\\"DEPOSITS & OTHER CREDITS (+)\\\":25.0,\\\"WITHDRAWALS & OTHER DEBITS (-)\\\":null,\\\"TRANSACTION DESCRIPTION\\\":\\\"BUNDLE FEE WAIVER\\\",\\\"Type\\\":\\\"Income \\\\u2013 Bank Reimbursement\\\"},{\\\"POSTING DATE\\\":1649376000000,\\\"DEPOSITS & OTHER CREDITS (+)\\\":25.0,\\\"WITHDRAWALS & OTHER DEBITS (-)\\\":null,\\\"TRANSACTION DESCRIPTION\\\":\\\"BUNDLE FEE WAIVER\\\",\\\"Type\\\":\\\"Income \\\\u2013 Bank Reimbursement\\\"},{\\\"POSTING DATE\\\":1652054400000,\\\"DEPOSITS & OTHER CREDITS (+)\\\":25.0,\\\"WITHDRAWALS & OTHER DEBITS (-)\\\":null,\\\"TRANSACTION DESCRIPTION\\\":\\\"BUNDLE FEE WAIVER\\\",\\\"Type\\\":\\\"Income \\\\u2013 Bank Reimbursement\\\"},{\\\"POSTING DATE\\\":1654646400000,\\\"DEPOSITS & OTHER CREDITS (+)\\\":25.0,\\\"WITHDRAWALS & OTHER DEBITS (-)\\\":null,\\\"TRANSACTION DESCRIPTION\\\":\\\"BUNDLE FEE WAIVER\\\",\\\"Type\\\":\\\"Income \\\\u2013 Bank Reimbursement\\\"},{\\\"POSTING DATE\\\":1657497600000,\\\"DEPOSITS & OTHER CREDITS (+)\\\":25.0,\\\"WITHDRAWALS & OTHER DEBITS (-)\\\":null,\\\"TRANSACTION DESCRIPTION\\\":\\\"BUNDLE FEE WAIVER\\\",\\\"Type\\\":\\\"Income \\\\u2013 Bank Reimbursement\\\"},{\\\"POSTING DATE\\\":1659916800000,\\\"DEPOSITS & OTHER CREDITS (+)\\\":25.0,\\\"WITHDRAWALS & OTHER DEBITS (-)\\\":null,\\\"TRANSACTION DESCRIPTION\\\":\\\"BUNDLE FEE WAIVER\\\",\\\"Type\\\":\\\"Income \\\\u2013 Bank Reimbursement\\\"},{\\\"POSTING DATE\\\":1662681600000,\\\"DEPOSITS & OTHER CREDITS (+)\\\":25.0,\\\"WITHDRAWALS & OTHER DEBITS (-)\\\":null,\\\"TRANSACTION DESCRIPTION\\\":\\\"BUNDLE FEE WAIVER\\\",\\\"Type\\\":\\\"Income \\\\u2013 Bank Reimbursement\\\"},{\\\"POSTING DATE\\\":1665705600000,\\\"DEPOSITS & OTHER CREDITS (+)\\\":25.0,\\\"WITHDRAWALS & OTHER DEBITS (-)\\\":null,\\\"TRANSACTION DESCRIPTION\\\":\\\"BUNDLE FEE WAIVER\\\",\\\"Type\\\":\\\"Income \\\\u2013 Bank Reimbursement\\\"},{\\\"POSTING DATE\\\":1667865600000,\\\"DEPOSITS & OTHER CREDITS (+)\\\":25.0,\\\"WITHDRAWALS & OTHER DEBITS (-)\\\":null,\\\"TRANSACTION DESCRIPTION\\\":\\\"BUNDLE FEE WAIVER\\\",\\\"Type\\\":\\\"Income \\\\u2013 Bank Reimbursement\\\"},{\\\"POSTING DATE\\\":1670457600000,\\\"DEPOSITS & OTHER CREDITS (+)\\\":25.0,\\\"WITHDRAWALS & OTHER DEBITS (-)\\\":null,\\\"TRANSACTION DESCRIPTION\\\":\\\"BUNDLE FEE WAIVER\\\",\\\"Type\\\":\\\"Income \\\\u2013 Bank Reimbursement\\\"}]\"}, {\"name\": \"GITHUB                HTTPSGITHUB.C\", \"summary\": \"{\\\"COUNTS\\\":12.0,\\\"DEPOSITS\\\":0.0,\\\"DEBITS\\\":96.0,\\\"GROUP_ID\\\":2.0}\", \"transactions\": \"[{\\\"POSTING DATE\\\":1641772800000,\\\"DEPOSITS & OTHER CREDITS (+)\\\":null,\\\"WITHDRAWALS & OTHER DEBITS (-)\\\":8.0,\\\"TRANSACTION DESCRIPTION\\\":\\\"GITHUB                HTTPSGITHUB.C\\\",\\\"Type\\\":\\\"Service \\\\u2013 Software\\\"},{\\\"POSTING DATE\\\":1644364800000,\\\"DEPOSITS & OTHER CREDITS (+)\\\":null,\\\"WITHDRAWALS & OTHER DEBITS (-)\\\":8.0,\\\"TRANSACTION DESCRIPTION\\\":\\\"GITHUB                HTTPSGITHUB.C\\\",\\\"Type\\\":\\\"Service \\\\u2013 Software\\\"},{\\\"POSTING DATE\\\":1646784000000,\\\"DEPOSITS & OTHER CREDITS (+)\\\":null,\\\"WITHDRAWALS & OTHER DEBITS (-)\\\":8.0,\\\"TRANSACTION DESCRIPTION\\\":\\\"GITHUB                HTTPSGITHUB.C\\\",\\\"Type\\\":\\\"Service \\\\u2013 Software\\\"},{\\\"POSTING DATE\\\":1649635200000,\\\"DEPOSITS & OTHER CREDITS (+)\\\":null,\\\"WITHDRAWALS & OTHER DEBITS (-)\\\":8.0,\\\"TRANSACTION DESCRIPTION\\\":\\\"GITHUB                HTTPSGITHUB.C\\\",\\\"Type\\\":\\\"Service \\\\u2013 Software\\\"},{\\\"POSTING DATE\\\":1652054400000,\\\"DEPOSITS & OTHER CREDITS (+)\\\":null,\\\"WITHDRAWALS & OTHER DEBITS (-)\\\":8.0,\\\"TRANSACTION DESCRIPTION\\\":\\\"GITHUB                HTTPSGITHUB.C\\\",\\\"Type\\\":\\\"Service \\\\u2013 Software\\\"},{\\\"POSTING DATE\\\":1654732800000,\\\"DEPOSITS & OTHER CREDITS (+)\\\":null,\\\"WITHDRAWALS & OTHER DEBITS (-)\\\":8.0,\\\"TRANSACTION DESCRIPTION\\\":\\\"GITHUB                HTTPSGITHUB.C\\\",\\\"Type\\\":\\\"Service \\\\u2013 Software\\\"},{\\\"POSTING DATE\\\":1657497600000,\\\"DEPOSITS & OTHER CREDITS (+)\\\":null,\\\"WITHDRAWALS & OTHER DEBITS (-)\\\":8.0,\\\"TRANSACTION DESCRIPTION\\\":\\\"GITHUB                HTTPSGITHUB.C\\\",\\\"Type\\\":\\\"Service \\\\u2013 Software\\\"},{\\\"POSTING DATE\\\":1660003200000,\\\"DEPOSITS & OTHER CREDITS (+)\\\":null,\\\"WITHDRAWALS & OTHER DEBITS (-)\\\":8.0,\\\"TRANSACTION DESCRIPTION\\\":\\\"GITHUB                HTTPSGITHUB.C\\\",\\\"Type\\\":\\\"Service \\\\u2013 Software\\\"},{\\\"POSTING DATE\\\":1662681600000,\\\"DEPOSITS & OTHER CREDITS (+)\\\":null,\\\"WITHDRAWALS & OTHER DEBITS (-)\\\":8.0,\\\"TRANSACTION DESCRIPTION\\\":\\\"GITHUB                HTTPSGITHUB.C\\\",\\\"Type\\\":\\\"Service \\\\u2013 Software\\\"},{\\\"POSTING DATE\\\":1665446400000,\\\"DEPOSITS & OTHER CREDITS (+)\\\":null,\\\"WITHDRAWALS & OTHER DEBITS (-)\\\":8.0,\\\"TRANSACTION DESCRIPTION\\\":\\\"GITHUB                HTTPSGITHUB.C\\\",\\\"Type\\\":\\\"Service \\\\u2013 Software\\\"},{\\\"POSTING DATE\\\":1667952000000,\\\"DEPOSITS & OTHER CREDITS (+)\\\":null,\\\"WITHDRAWALS & OTHER DEBITS (-)\\\":8.0,\\\"TRANSACTION DESCRIPTION\\\":\\\"GITHUB                HTTPSGITHUB.C\\\",\\\"Type\\\":\\\"Service \\\\u2013 Software\\\"},{\\\"POSTING DATE\\\":1670544000000,\\\"DEPOSITS & OTHER CREDITS (+)\\\":null,\\\"WITHDRAWALS & OTHER DEBITS (-)\\\":8.0,\\\"TRANSACTION DESCRIPTION\\\":\\\"GITHUB                HTTPSGITHUB.C\\\",\\\"Type\\\":\\\"Service \\\\u2013 Software\\\"}]\"}, {\"name\": \"INTUIT *QBooks Online CL.INTUIT.COM\", \"summary\": \"{\\\"COUNTS\\\":6.0,\\\"DEPOSITS\\\":0.0,\\\"DEBITS\\\":180.0,\\\"GROUP_ID\\\":3.0}\", \"transactions\": \"[{\\\"POSTING DATE\\\":1657497600000,\\\"DEPOSITS & OTHER CREDITS (+)\\\":null,\\\"WITHDRAWALS & OTHER DEBITS (-)\\\":30.0,\\\"TRANSACTION DESCRIPTION\\\":\\\"INTUIT *QBooks Online CL.INTUIT.COM\\\",\\\"Type\\\":\\\"Service \\\\u2013 Software\\\"},{\\\"POSTING DATE\\\":1660003200000,\\\"DEPOSITS & OTHER CREDITS (+)\\\":null,\\\"WITHDRAWALS & OTHER DEBITS (-)\\\":30.0,\\\"TRANSACTION DESCRIPTION\\\":\\\"INTUIT *QBooks Online CL.INTUIT.COM\\\",\\\"Type\\\":\\\"Service \\\\u2013 Software\\\"},{\\\"POSTING DATE\\\":1662681600000,\\\"DEPOSITS & OTHER CREDITS (+)\\\":null,\\\"WITHDRAWALS & OTHER DEBITS (-)\\\":30.0,\\\"TRANSACTION DESCRIPTION\\\":\\\"INTUIT *QBooks Online CL.INTUIT.COM\\\",\\\"Type\\\":\\\"Service \\\\u2013 Software\\\"},{\\\"POSTING DATE\\\":1665446400000,\\\"DEPOSITS & OTHER CREDITS (+)\\\":null,\\\"WITHDRAWALS & OTHER DEBITS (-)\\\":30.0,\\\"TRANSACTION DESCRIPTION\\\":\\\"INTUIT *QBooks Online CL.INTUIT.COM\\\",\\\"Type\\\":\\\"Service \\\\u2013 Software\\\"},{\\\"POSTING DATE\\\":1667952000000,\\\"DEPOSITS & OTHER CREDITS (+)\\\":null,\\\"WITHDRAWALS & OTHER DEBITS (-)\\\":30.0,\\\"TRANSACTION DESCRIPTION\\\":\\\"INTUIT *QBooks Online CL.INTUIT.COM\\\",\\\"Type\\\":\\\"Service \\\\u2013 Software\\\"},{\\\"POSTING DATE\\\":1670544000000,\\\"DEPOSITS & OTHER CREDITS (+)\\\":null,\\\"WITHDRAWALS & OTHER DEBITS (-)\\\":30.0,\\\"TRANSACTION DESCRIPTION\\\":\\\"INTUIT *QBooks Online CL.INTUIT.COM\\\",\\\"Type\\\":\\\"Service \\\\u2013 Software\\\"}]\"}, {\"name\": \"INTUIT *QuickBooks OnlCL.INTUIT.COM\", \"summary\": \"{\\\"COUNTS\\\":6.0,\\\"DEPOSITS\\\":0.0,\\\"DEBITS\\\":150.0,\\\"GROUP_ID\\\":4.0}\", \"transactions\": \"[{\\\"POSTING DATE\\\":1641772800000,\\\"DEPOSITS & OTHER CREDITS (+)\\\":null,\\\"WITHDRAWALS & OTHER DEBITS (-)\\\":25.0,\\\"TRANSACTION DESCRIPTION\\\":\\\"INTUIT *QuickBooks OnlCL.INTUIT.COM\\\",\\\"Type\\\":\\\"Service \\\\u2013 Software\\\"},{\\\"POSTING DATE\\\":1644364800000,\\\"DEPOSITS & OTHER CREDITS (+)\\\":null,\\\"WITHDRAWALS & OTHER DEBITS (-)\\\":25.0,\\\"TRANSACTION DESCRIPTION\\\":\\\"INTUIT *QuickBooks OnlCL.INTUIT.COM\\\",\\\"Type\\\":\\\"Service \\\\u2013 Software\\\"},{\\\"POSTING DATE\\\":1646784000000,\\\"DEPOSITS & OTHER CREDITS (+)\\\":null,\\\"WITHDRAWALS & OTHER DEBITS (-)\\\":25.0,\\\"TRANSACTION DESCRIPTION\\\":\\\"INTUIT *QuickBooks OnlCL.INTUIT.COM\\\",\\\"Type\\\":\\\"Service \\\\u2013 Software\\\"},{\\\"POSTING DATE\\\":1649635200000,\\\"DEPOSITS & OTHER CREDITS (+)\\\":null,\\\"WITHDRAWALS & OTHER DEBITS (-)\\\":25.0,\\\"TRANSACTION DESCRIPTION\\\":\\\"INTUIT *QuickBooks OnlCL.INTUIT.COM\\\",\\\"Type\\\":\\\"Service \\\\u2013 Software\\\"},{\\\"POSTING DATE\\\":1652054400000,\\\"DEPOSITS & OTHER CREDITS (+)\\\":null,\\\"WITHDRAWALS & OTHER DEBITS (-)\\\":25.0,\\\"TRANSACTION DESCRIPTION\\\":\\\"INTUIT *QuickBooks OnlCL.INTUIT.COM\\\",\\\"Type\\\":\\\"Service \\\\u2013 Software\\\"},{\\\"POSTING DATE\\\":1654732800000,\\\"DEPOSITS & OTHER CREDITS (+)\\\":null,\\\"WITHDRAWALS & OTHER DEBITS (-)\\\":25.0,\\\"TRANSACTION DESCRIPTION\\\":\\\"INTUIT *QuickBooks OnlCL.INTUIT.COM\\\",\\\"Type\\\":\\\"Service \\\\u2013 Software\\\"}]\"}, {\"name\": \"INTUIT *TURBOTAX      CL.INTUIT.COM\", \"summary\": \"{\\\"COUNTS\\\":2.0,\\\"DEPOSITS\\\":0.0,\\\"DEBITS\\\":290.0,\\\"GROUP_ID\\\":5.0}\", \"transactions\": \"[{\\\"POSTING DATE\\\":1646611200000,\\\"DEPOSITS & OTHER CREDITS (+)\\\":null,\\\"WITHDRAWALS & OTHER DEBITS (-)\\\":120.0,\\\"TRANSACTION DESCRIPTION\\\":\\\"INTUIT *TURBOTAX      CL.INTUIT.COM\\\",\\\"Type\\\":\\\"Service \\\\u2013 Software\\\"},{\\\"POSTING DATE\\\":1646611200000,\\\"DEPOSITS & OTHER CREDITS (+)\\\":null,\\\"WITHDRAWALS & OTHER DEBITS (-)\\\":170.0,\\\"TRANSACTION DESCRIPTION\\\":\\\"INTUIT *TURBOTAX      CL.INTUIT.COM\\\",\\\"Type\\\":\\\"Service \\\\u2013 Software\\\"}]\"}, {\"name\": \"NOUNPROJECT.COM       THENOUNPROJEC\", \"summary\": \"{\\\"COUNTS\\\":1.0,\\\"DEPOSITS\\\":0.0,\\\"DEBITS\\\":39.99,\\\"GROUP_ID\\\":6.0}\", \"transactions\": \"[{\\\"POSTING DATE\\\":1646006400000,\\\"DEPOSITS & OTHER CREDITS (+)\\\":null,\\\"WITHDRAWALS & OTHER DEBITS (-)\\\":39.99,\\\"TRANSACTION DESCRIPTION\\\":\\\"NOUNPROJECT.COM       THENOUNPROJEC\\\",\\\"Type\\\":\\\"Service \\\\u2013 Software\\\"}]\"}, {\"name\": \"SERVICE CHARGE FOR ACCOUNT 000009872519609\", \"summary\": \"{\\\"COUNTS\\\":12.0,\\\"DEPOSITS\\\":0.0,\\\"DEBITS\\\":300.0,\\\"GROUP_ID\\\":7.0}\", \"transactions\": \"[{\\\"POSTING DATE\\\":1641772800000,\\\"DEPOSITS & OTHER CREDITS (+)\\\":null,\\\"WITHDRAWALS & OTHER DEBITS (-)\\\":25.0,\\\"TRANSACTION DESCRIPTION\\\":\\\"SERVICE CHARGE FOR ACCOUNT 000009872519609\\\",\\\"Type\\\":\\\"Expense \\\\u2013 Bank Fee\\\"},{\\\"POSTING DATE\\\":1644278400000,\\\"DEPOSITS & OTHER CREDITS (+)\\\":null,\\\"WITHDRAWALS & OTHER DEBITS (-)\\\":25.0,\\\"TRANSACTION DESCRIPTION\\\":\\\"SERVICE CHARGE FOR ACCOUNT 000009872519609\\\",\\\"Type\\\":\\\"Expense \\\\u2013 Bank Fee\\\"},{\\\"POSTING DATE\\\":1646697600000,\\\"DEPOSITS & OTHER CREDITS (+)\\\":null,\\\"WITHDRAWALS & OTHER DEBITS (-)\\\":25.0,\\\"TRANSACTION DESCRIPTION\\\":\\\"SERVICE CHARGE FOR ACCOUNT 000009872519609\\\",\\\"Type\\\":\\\"Expense \\\\u2013 Bank Fee\\\"},{\\\"POSTING DATE\\\":1649376000000,\\\"DEPOSITS & OTHER CREDITS (+)\\\":null,\\\"WITHDRAWALS & OTHER DEBITS (-)\\\":25.0,\\\"TRANSACTION DESCRIPTION\\\":\\\"SERVICE CHARGE FOR ACCOUNT 000009872519609\\\",\\\"Type\\\":\\\"Expense \\\\u2013 Bank Fee\\\"},{\\\"POSTING DATE\\\":1652054400000,\\\"DEPOSITS & OTHER CREDITS (+)\\\":null,\\\"WITHDRAWALS & OTHER DEBITS (-)\\\":25.0,\\\"TRANSACTION DESCRIPTION\\\":\\\"SERVICE CHARGE FOR ACCOUNT 000009872519609\\\",\\\"Type\\\":\\\"Expense \\\\u2013 Bank Fee\\\"},{\\\"POSTING DATE\\\":1654646400000,\\\"DEPOSITS & OTHER CREDITS (+)\\\":null,\\\"WITHDRAWALS & OTHER DEBITS (-)\\\":25.0,\\\"TRANSACTION DESCRIPTION\\\":\\\"SERVICE CHARGE FOR ACCOUNT 000009872519609\\\",\\\"Type\\\":\\\"Expense \\\\u2013 Bank Fee\\\"},{\\\"POSTING DATE\\\":1657497600000,\\\"DEPOSITS & OTHER CREDITS (+)\\\":null,\\\"WITHDRAWALS & OTHER DEBITS (-)\\\":25.0,\\\"TRANSACTION DESCRIPTION\\\":\\\"SERVICE CHARGE FOR ACCOUNT 000009872519609\\\",\\\"Type\\\":\\\"Expense \\\\u2013 Bank Fee\\\"},{\\\"POSTING DATE\\\":1659916800000,\\\"DEPOSITS & OTHER CREDITS (+)\\\":null,\\\"WITHDRAWALS & OTHER DEBITS (-)\\\":25.0,\\\"TRANSACTION DESCRIPTION\\\":\\\"SERVICE CHARGE FOR ACCOUNT 000009872519609\\\",\\\"Type\\\":\\\"Expense \\\\u2013 Bank Fee\\\"},{\\\"POSTING DATE\\\":1662681600000,\\\"DEPOSITS & OTHER CREDITS (+)\\\":null,\\\"WITHDRAWALS & OTHER DEBITS (-)\\\":25.0,\\\"TRANSACTION DESCRIPTION\\\":\\\"SERVICE CHARGE FOR ACCOUNT 000009872519609\\\",\\\"Type\\\":\\\"Expense \\\\u2013 Bank Fee\\\"},{\\\"POSTING DATE\\\":1665705600000,\\\"DEPOSITS & OTHER CREDITS (+)\\\":null,\\\"WITHDRAWALS & OTHER DEBITS (-)\\\":25.0,\\\"TRANSACTION DESCRIPTION\\\":\\\"SERVICE CHARGE FOR ACCOUNT 000009872519609\\\",\\\"Type\\\":\\\"Expense \\\\u2013 Bank Fee\\\"},{\\\"POSTING DATE\\\":1667865600000,\\\"DEPOSITS & OTHER CREDITS (+)\\\":null,\\\"WITHDRAWALS & OTHER DEBITS (-)\\\":25.0,\\\"TRANSACTION DESCRIPTION\\\":\\\"SERVICE CHARGE FOR ACCOUNT 000009872519609\\\",\\\"Type\\\":\\\"Expense \\\\u2013 Bank Fee\\\"},{\\\"POSTING DATE\\\":1670457600000,\\\"DEPOSITS & OTHER CREDITS (+)\\\":null,\\\"WITHDRAWALS & OTHER DEBITS (-)\\\":25.0,\\\"TRANSACTION DESCRIPTION\\\":\\\"SERVICE CHARGE FOR ACCOUNT 000009872519609\\\",\\\"Type\\\":\\\"Expense \\\\u2013 Bank Fee\\\"}]\"}, {\"name\": \"WARREN COUUNTY ONLINE 540-6352215\", \"summary\": \"{\\\"COUNTS\\\":2.0,\\\"DEPOSITS\\\":0.0,\\\"DEBITS\\\":19.99,\\\"GROUP_ID\\\":8.0}\", \"transactions\": \"[{\\\"POSTING DATE\\\":1641427200000,\\\"DEPOSITS & OTHER CREDITS (+)\\\":null,\\\"WITHDRAWALS & OTHER DEBITS (-)\\\":10.2,\\\"TRANSACTION DESCRIPTION\\\":\\\"WARREN COUUNTY ONLINE 540-6352215\\\",\\\"Type\\\":\\\"Taxes\\\"},{\\\"POSTING DATE\\\":1655769600000,\\\"DEPOSITS & OTHER CREDITS (+)\\\":null,\\\"WITHDRAWALS & OTHER DEBITS (-)\\\":9.79,\\\"TRANSACTION DESCRIPTION\\\":\\\"WARREN COUUNTY ONLINE 540-6352215\\\",\\\"Type\\\":\\\"Taxes\\\"}]\"}, {\"name\": \"WEB XFER FROM CHK 00009875147531\", \"summary\": \"{\\\"COUNTS\\\":2.0,\\\"DEPOSITS\\\":1120.0,\\\"DEBITS\\\":0.0,\\\"GROUP_ID\\\":9.0}\", \"transactions\": \"[{\\\"POSTING DATE\\\":1646179200000,\\\"DEPOSITS & OTHER CREDITS (+)\\\":620.0,\\\"WITHDRAWALS & OTHER DEBITS (-)\\\":null,\\\"TRANSACTION DESCRIPTION\\\":\\\"WEB XFER FROM CHK 00009875147531\\\",\\\"Type\\\":\\\"Member Contribution (50\\\\/50 BWC\\\\/NCB)\\\"},{\\\"POSTING DATE\\\":1672272000000,\\\"DEPOSITS & OTHER CREDITS (+)\\\":500.0,\\\"WITHDRAWALS & OTHER DEBITS (-)\\\":null,\\\"TRANSACTION DESCRIPTION\\\":\\\"WEB XFER FROM CHK 00009875147531\\\",\\\"Type\\\":\\\"Member Contribution (50\\\\/50 BWC\\\\/NCB)\\\"}]\"}, {\"name\": \"WEB XFER TO CHK   00009875147531\", \"summary\": \"{\\\"COUNTS\\\":1.0,\\\"DEPOSITS\\\":0.0,\\\"DEBITS\\\":250.0,\\\"GROUP_ID\\\":10.0}\", \"transactions\": \"[{\\\"POSTING DATE\\\":1671408000000,\\\"DEPOSITS & OTHER CREDITS (+)\\\":null,\\\"WITHDRAWALS & OTHER DEBITS (-)\\\":250.0,\\\"TRANSACTION DESCRIPTION\\\":\\\"WEB XFER TO CHK   00009875147531\\\",\\\"Type\\\":\\\"Member Reimbursement (50\\\\/50 BWC\\\\/NCB)\\\"}]\"}]\n"
     ]
    }
   ],
   "source": [
    "# We want a list of dictionaries, \n",
    "# with keys: transactions, summary, tags\n",
    "# each transaction can also have a tag\n",
    "import json\n",
    "\n",
    "json_object = json.dumps(parsed_trxns)\n",
    "print(json_object)"
   ]
  },
  {
   "cell_type": "code",
   "execution_count": 30,
   "id": "1d0eb8a8",
   "metadata": {},
   "outputs": [
    {
     "name": "stdout",
     "output_type": "stream",
     "text": [
      "[{\"name\": \"Amazon web services   aws.amazon.co\", \"summary\": \"{\\\"COUNTS\\\":14.0,\\\"DEPOSITS\\\":0.0,\\\"DEBITS\\\":109.72,\\\"GROUP_ID\\\":0.0}\", \"transactions\": \"[{\\\"POSTING DATE\\\":1641254400000,\\\"DEPOSITS & OTHER CREDITS (+)\\\":null,\\\"WITHDRAWALS & OTHER DEBITS (-)\\\":6.81,\\\"TRANSACTION DESCRIPTION\\\":\\\"Amazon web services   aws.amazon.co\\\",\\\"Type\\\":\\\"Service \\\\u2013 Software\\\"},{\\\"POSTING DATE\\\":1643932800000,\\\"DEPOSITS & OTHER CREDITS (+)\\\":null,\\\"WITHDRAWALS & OTHER DEBITS (-)\\\":1.81,\\\"TRANSACTION DESCRIPTION\\\":\\\"Amazon web services   aws.amazon.co\\\",\\\"Type\\\":\\\"Service \\\\u2013 Software\\\"},{\\\"POSTING DATE\\\":1646352000000,\\\"DEPOSITS & OTHER CREDITS (+)\\\":null,\\\"WITHDRAWALS & OTHER DEBITS (-)\\\":1.81,\\\"TRANSACTION DESCRIPTION\\\":\\\"Amazon web services   aws.amazon.co\\\",\\\"Type\\\":\\\"Service \\\\u2013 Software\\\"},{\\\"POSTING DATE\\\":1649030400000,\\\"DEPOSITS & OTHER CREDITS (+)\\\":null,\\\"WITHDRAWALS & OTHER DEBITS (-)\\\":1.81,\\\"TRANSACTION DESCRIPTION\\\":\\\"Amazon web services   aws.amazon.co\\\",\\\"Type\\\":\\\"Service \\\\u2013 Software\\\"},{\\\"POSTING DATE\\\":1651536000000,\\\"DEPOSITS & OTHER CREDITS (+)\\\":null,\\\"WITHDRAWALS & OTHER DEBITS (-)\\\":1.81,\\\"TRANSACTION DESCRIPTION\\\":\\\"Amazon web services   aws.amazon.co\\\",\\\"Type\\\":\\\"Service \\\\u2013 Software\\\"},{\\\"POSTING DATE\\\":1654473600000,\\\"DEPOSITS & OTHER CREDITS (+)\\\":null,\\\"WITHDRAWALS & OTHER DEBITS (-)\\\":1.81,\\\"TRANSACTION DESCRIPTION\\\":\\\"Amazon web services   aws.amazon.co\\\",\\\"Type\\\":\\\"Service \\\\u2013 Software\\\"},{\\\"POSTING DATE\\\":1656979200000,\\\"DEPOSITS & OTHER CREDITS (+)\\\":null,\\\"WITHDRAWALS & OTHER DEBITS (-)\\\":1.81,\\\"TRANSACTION DESCRIPTION\\\":\\\"Amazon web services   aws.amazon.co\\\",\\\"Type\\\":\\\"Service \\\\u2013 Software\\\"},{\\\"POSTING DATE\\\":1659571200000,\\\"DEPOSITS & OTHER CREDITS (+)\\\":null,\\\"WITHDRAWALS & OTHER DEBITS (-)\\\":1.81,\\\"TRANSACTION DESCRIPTION\\\":\\\"Amazon web services   aws.amazon.co\\\",\\\"Type\\\":\\\"Service \\\\u2013 Software\\\"},{\\\"POSTING DATE\\\":1662422400000,\\\"DEPOSITS & OTHER CREDITS (+)\\\":null,\\\"WITHDRAWALS & OTHER DEBITS (-)\\\":1.81,\\\"TRANSACTION DESCRIPTION\\\":\\\"Amazon web services   aws.amazon.co\\\",\\\"Type\\\":\\\"Service \\\\u2013 Software\\\"},{\\\"POSTING DATE\\\":1664496000000,\\\"DEPOSITS & OTHER CREDITS (+)\\\":null,\\\"WITHDRAWALS & OTHER DEBITS (-)\\\":71.0,\\\"TRANSACTION DESCRIPTION\\\":\\\"Amazon web services   aws.amazon.co\\\",\\\"Type\\\":\\\"Service \\\\u2013 Software\\\"},{\\\"POSTING DATE\\\":1664755200000,\\\"DEPOSITS & OTHER CREDITS (+)\\\":null,\\\"WITHDRAWALS & OTHER DEBITS (-)\\\":12.0,\\\"TRANSACTION DESCRIPTION\\\":\\\"Amazon web services   aws.amazon.co\\\",\\\"Type\\\":\\\"Service \\\\u2013 Software\\\"},{\\\"POSTING DATE\\\":1664755200000,\\\"DEPOSITS & OTHER CREDITS (+)\\\":null,\\\"WITHDRAWALS & OTHER DEBITS (-)\\\":1.81,\\\"TRANSACTION DESCRIPTION\\\":\\\"Amazon web services   aws.amazon.co\\\",\\\"Type\\\":\\\"Service \\\\u2013 Software\\\"},{\\\"POSTING DATE\\\":1667433600000,\\\"DEPOSITS & OTHER CREDITS (+)\\\":null,\\\"WITHDRAWALS & OTHER DEBITS (-)\\\":1.81,\\\"TRANSACTION DESCRIPTION\\\":\\\"Amazon web services   aws.amazon.co\\\",\\\"Type\\\":\\\"Service \\\\u2013 Software\\\"},{\\\"POSTING DATE\\\":1670198400000,\\\"DEPOSITS & OTHER CREDITS (+)\\\":null,\\\"WITHDRAWALS & OTHER DEBITS (-)\\\":1.81,\\\"TRANSACTION DESCRIPTION\\\":\\\"Amazon web services   aws.amazon.co\\\",\\\"Type\\\":\\\"Service \\\\u2013 Software\\\"}]\", \"tags\": []}, {\"name\": \"BUNDLE FEE WAIVER\", \"summary\": \"{\\\"COUNTS\\\":12.0,\\\"DEPOSITS\\\":300.0,\\\"DEBITS\\\":0.0,\\\"GROUP_ID\\\":1.0}\", \"transactions\": \"[{\\\"POSTING DATE\\\":1641772800000,\\\"DEPOSITS & OTHER CREDITS (+)\\\":25.0,\\\"WITHDRAWALS & OTHER DEBITS (-)\\\":null,\\\"TRANSACTION DESCRIPTION\\\":\\\"BUNDLE FEE WAIVER\\\",\\\"Type\\\":\\\"Income \\\\u2013 Bank Reimbursement\\\"},{\\\"POSTING DATE\\\":1644278400000,\\\"DEPOSITS & OTHER CREDITS (+)\\\":25.0,\\\"WITHDRAWALS & OTHER DEBITS (-)\\\":null,\\\"TRANSACTION DESCRIPTION\\\":\\\"BUNDLE FEE WAIVER\\\",\\\"Type\\\":\\\"Income \\\\u2013 Bank Reimbursement\\\"},{\\\"POSTING DATE\\\":1646697600000,\\\"DEPOSITS & OTHER CREDITS (+)\\\":25.0,\\\"WITHDRAWALS & OTHER DEBITS (-)\\\":null,\\\"TRANSACTION DESCRIPTION\\\":\\\"BUNDLE FEE WAIVER\\\",\\\"Type\\\":\\\"Income \\\\u2013 Bank Reimbursement\\\"},{\\\"POSTING DATE\\\":1649376000000,\\\"DEPOSITS & OTHER CREDITS (+)\\\":25.0,\\\"WITHDRAWALS & OTHER DEBITS (-)\\\":null,\\\"TRANSACTION DESCRIPTION\\\":\\\"BUNDLE FEE WAIVER\\\",\\\"Type\\\":\\\"Income \\\\u2013 Bank Reimbursement\\\"},{\\\"POSTING DATE\\\":1652054400000,\\\"DEPOSITS & OTHER CREDITS (+)\\\":25.0,\\\"WITHDRAWALS & OTHER DEBITS (-)\\\":null,\\\"TRANSACTION DESCRIPTION\\\":\\\"BUNDLE FEE WAIVER\\\",\\\"Type\\\":\\\"Income \\\\u2013 Bank Reimbursement\\\"},{\\\"POSTING DATE\\\":1654646400000,\\\"DEPOSITS & OTHER CREDITS (+)\\\":25.0,\\\"WITHDRAWALS & OTHER DEBITS (-)\\\":null,\\\"TRANSACTION DESCRIPTION\\\":\\\"BUNDLE FEE WAIVER\\\",\\\"Type\\\":\\\"Income \\\\u2013 Bank Reimbursement\\\"},{\\\"POSTING DATE\\\":1657497600000,\\\"DEPOSITS & OTHER CREDITS (+)\\\":25.0,\\\"WITHDRAWALS & OTHER DEBITS (-)\\\":null,\\\"TRANSACTION DESCRIPTION\\\":\\\"BUNDLE FEE WAIVER\\\",\\\"Type\\\":\\\"Income \\\\u2013 Bank Reimbursement\\\"},{\\\"POSTING DATE\\\":1659916800000,\\\"DEPOSITS & OTHER CREDITS (+)\\\":25.0,\\\"WITHDRAWALS & OTHER DEBITS (-)\\\":null,\\\"TRANSACTION DESCRIPTION\\\":\\\"BUNDLE FEE WAIVER\\\",\\\"Type\\\":\\\"Income \\\\u2013 Bank Reimbursement\\\"},{\\\"POSTING DATE\\\":1662681600000,\\\"DEPOSITS & OTHER CREDITS (+)\\\":25.0,\\\"WITHDRAWALS & OTHER DEBITS (-)\\\":null,\\\"TRANSACTION DESCRIPTION\\\":\\\"BUNDLE FEE WAIVER\\\",\\\"Type\\\":\\\"Income \\\\u2013 Bank Reimbursement\\\"},{\\\"POSTING DATE\\\":1665705600000,\\\"DEPOSITS & OTHER CREDITS (+)\\\":25.0,\\\"WITHDRAWALS & OTHER DEBITS (-)\\\":null,\\\"TRANSACTION DESCRIPTION\\\":\\\"BUNDLE FEE WAIVER\\\",\\\"Type\\\":\\\"Income \\\\u2013 Bank Reimbursement\\\"},{\\\"POSTING DATE\\\":1667865600000,\\\"DEPOSITS & OTHER CREDITS (+)\\\":25.0,\\\"WITHDRAWALS & OTHER DEBITS (-)\\\":null,\\\"TRANSACTION DESCRIPTION\\\":\\\"BUNDLE FEE WAIVER\\\",\\\"Type\\\":\\\"Income \\\\u2013 Bank Reimbursement\\\"},{\\\"POSTING DATE\\\":1670457600000,\\\"DEPOSITS & OTHER CREDITS (+)\\\":25.0,\\\"WITHDRAWALS & OTHER DEBITS (-)\\\":null,\\\"TRANSACTION DESCRIPTION\\\":\\\"BUNDLE FEE WAIVER\\\",\\\"Type\\\":\\\"Income \\\\u2013 Bank Reimbursement\\\"}]\", \"tags\": []}, {\"name\": \"GITHUB                HTTPSGITHUB.C\", \"summary\": \"{\\\"COUNTS\\\":12.0,\\\"DEPOSITS\\\":0.0,\\\"DEBITS\\\":96.0,\\\"GROUP_ID\\\":2.0}\", \"transactions\": \"[{\\\"POSTING DATE\\\":1641772800000,\\\"DEPOSITS & OTHER CREDITS (+)\\\":null,\\\"WITHDRAWALS & OTHER DEBITS (-)\\\":8.0,\\\"TRANSACTION DESCRIPTION\\\":\\\"GITHUB                HTTPSGITHUB.C\\\",\\\"Type\\\":\\\"Service \\\\u2013 Software\\\"},{\\\"POSTING DATE\\\":1644364800000,\\\"DEPOSITS & OTHER CREDITS (+)\\\":null,\\\"WITHDRAWALS & OTHER DEBITS (-)\\\":8.0,\\\"TRANSACTION DESCRIPTION\\\":\\\"GITHUB                HTTPSGITHUB.C\\\",\\\"Type\\\":\\\"Service \\\\u2013 Software\\\"},{\\\"POSTING DATE\\\":1646784000000,\\\"DEPOSITS & OTHER CREDITS (+)\\\":null,\\\"WITHDRAWALS & OTHER DEBITS (-)\\\":8.0,\\\"TRANSACTION DESCRIPTION\\\":\\\"GITHUB                HTTPSGITHUB.C\\\",\\\"Type\\\":\\\"Service \\\\u2013 Software\\\"},{\\\"POSTING DATE\\\":1649635200000,\\\"DEPOSITS & OTHER CREDITS (+)\\\":null,\\\"WITHDRAWALS & OTHER DEBITS (-)\\\":8.0,\\\"TRANSACTION DESCRIPTION\\\":\\\"GITHUB                HTTPSGITHUB.C\\\",\\\"Type\\\":\\\"Service \\\\u2013 Software\\\"},{\\\"POSTING DATE\\\":1652054400000,\\\"DEPOSITS & OTHER CREDITS (+)\\\":null,\\\"WITHDRAWALS & OTHER DEBITS (-)\\\":8.0,\\\"TRANSACTION DESCRIPTION\\\":\\\"GITHUB                HTTPSGITHUB.C\\\",\\\"Type\\\":\\\"Service \\\\u2013 Software\\\"},{\\\"POSTING DATE\\\":1654732800000,\\\"DEPOSITS & OTHER CREDITS (+)\\\":null,\\\"WITHDRAWALS & OTHER DEBITS (-)\\\":8.0,\\\"TRANSACTION DESCRIPTION\\\":\\\"GITHUB                HTTPSGITHUB.C\\\",\\\"Type\\\":\\\"Service \\\\u2013 Software\\\"},{\\\"POSTING DATE\\\":1657497600000,\\\"DEPOSITS & OTHER CREDITS (+)\\\":null,\\\"WITHDRAWALS & OTHER DEBITS (-)\\\":8.0,\\\"TRANSACTION DESCRIPTION\\\":\\\"GITHUB                HTTPSGITHUB.C\\\",\\\"Type\\\":\\\"Service \\\\u2013 Software\\\"},{\\\"POSTING DATE\\\":1660003200000,\\\"DEPOSITS & OTHER CREDITS (+)\\\":null,\\\"WITHDRAWALS & OTHER DEBITS (-)\\\":8.0,\\\"TRANSACTION DESCRIPTION\\\":\\\"GITHUB                HTTPSGITHUB.C\\\",\\\"Type\\\":\\\"Service \\\\u2013 Software\\\"},{\\\"POSTING DATE\\\":1662681600000,\\\"DEPOSITS & OTHER CREDITS (+)\\\":null,\\\"WITHDRAWALS & OTHER DEBITS (-)\\\":8.0,\\\"TRANSACTION DESCRIPTION\\\":\\\"GITHUB                HTTPSGITHUB.C\\\",\\\"Type\\\":\\\"Service \\\\u2013 Software\\\"},{\\\"POSTING DATE\\\":1665446400000,\\\"DEPOSITS & OTHER CREDITS (+)\\\":null,\\\"WITHDRAWALS & OTHER DEBITS (-)\\\":8.0,\\\"TRANSACTION DESCRIPTION\\\":\\\"GITHUB                HTTPSGITHUB.C\\\",\\\"Type\\\":\\\"Service \\\\u2013 Software\\\"},{\\\"POSTING DATE\\\":1667952000000,\\\"DEPOSITS & OTHER CREDITS (+)\\\":null,\\\"WITHDRAWALS & OTHER DEBITS (-)\\\":8.0,\\\"TRANSACTION DESCRIPTION\\\":\\\"GITHUB                HTTPSGITHUB.C\\\",\\\"Type\\\":\\\"Service \\\\u2013 Software\\\"},{\\\"POSTING DATE\\\":1670544000000,\\\"DEPOSITS & OTHER CREDITS (+)\\\":null,\\\"WITHDRAWALS & OTHER DEBITS (-)\\\":8.0,\\\"TRANSACTION DESCRIPTION\\\":\\\"GITHUB                HTTPSGITHUB.C\\\",\\\"Type\\\":\\\"Service \\\\u2013 Software\\\"}]\", \"tags\": []}, {\"name\": \"INTUIT *QBooks Online CL.INTUIT.COM\", \"summary\": \"{\\\"COUNTS\\\":6.0,\\\"DEPOSITS\\\":0.0,\\\"DEBITS\\\":180.0,\\\"GROUP_ID\\\":3.0}\", \"transactions\": \"[{\\\"POSTING DATE\\\":1657497600000,\\\"DEPOSITS & OTHER CREDITS (+)\\\":null,\\\"WITHDRAWALS & OTHER DEBITS (-)\\\":30.0,\\\"TRANSACTION DESCRIPTION\\\":\\\"INTUIT *QBooks Online CL.INTUIT.COM\\\",\\\"Type\\\":\\\"Service \\\\u2013 Software\\\"},{\\\"POSTING DATE\\\":1660003200000,\\\"DEPOSITS & OTHER CREDITS (+)\\\":null,\\\"WITHDRAWALS & OTHER DEBITS (-)\\\":30.0,\\\"TRANSACTION DESCRIPTION\\\":\\\"INTUIT *QBooks Online CL.INTUIT.COM\\\",\\\"Type\\\":\\\"Service \\\\u2013 Software\\\"},{\\\"POSTING DATE\\\":1662681600000,\\\"DEPOSITS & OTHER CREDITS (+)\\\":null,\\\"WITHDRAWALS & OTHER DEBITS (-)\\\":30.0,\\\"TRANSACTION DESCRIPTION\\\":\\\"INTUIT *QBooks Online CL.INTUIT.COM\\\",\\\"Type\\\":\\\"Service \\\\u2013 Software\\\"},{\\\"POSTING DATE\\\":1665446400000,\\\"DEPOSITS & OTHER CREDITS (+)\\\":null,\\\"WITHDRAWALS & OTHER DEBITS (-)\\\":30.0,\\\"TRANSACTION DESCRIPTION\\\":\\\"INTUIT *QBooks Online CL.INTUIT.COM\\\",\\\"Type\\\":\\\"Service \\\\u2013 Software\\\"},{\\\"POSTING DATE\\\":1667952000000,\\\"DEPOSITS & OTHER CREDITS (+)\\\":null,\\\"WITHDRAWALS & OTHER DEBITS (-)\\\":30.0,\\\"TRANSACTION DESCRIPTION\\\":\\\"INTUIT *QBooks Online CL.INTUIT.COM\\\",\\\"Type\\\":\\\"Service \\\\u2013 Software\\\"},{\\\"POSTING DATE\\\":1670544000000,\\\"DEPOSITS & OTHER CREDITS (+)\\\":null,\\\"WITHDRAWALS & OTHER DEBITS (-)\\\":30.0,\\\"TRANSACTION DESCRIPTION\\\":\\\"INTUIT *QBooks Online CL.INTUIT.COM\\\",\\\"Type\\\":\\\"Service \\\\u2013 Software\\\"}]\", \"tags\": []}, {\"name\": \"INTUIT *QuickBooks OnlCL.INTUIT.COM\", \"summary\": \"{\\\"COUNTS\\\":6.0,\\\"DEPOSITS\\\":0.0,\\\"DEBITS\\\":150.0,\\\"GROUP_ID\\\":4.0}\", \"transactions\": \"[{\\\"POSTING DATE\\\":1641772800000,\\\"DEPOSITS & OTHER CREDITS (+)\\\":null,\\\"WITHDRAWALS & OTHER DEBITS (-)\\\":25.0,\\\"TRANSACTION DESCRIPTION\\\":\\\"INTUIT *QuickBooks OnlCL.INTUIT.COM\\\",\\\"Type\\\":\\\"Service \\\\u2013 Software\\\"},{\\\"POSTING DATE\\\":1644364800000,\\\"DEPOSITS & OTHER CREDITS (+)\\\":null,\\\"WITHDRAWALS & OTHER DEBITS (-)\\\":25.0,\\\"TRANSACTION DESCRIPTION\\\":\\\"INTUIT *QuickBooks OnlCL.INTUIT.COM\\\",\\\"Type\\\":\\\"Service \\\\u2013 Software\\\"},{\\\"POSTING DATE\\\":1646784000000,\\\"DEPOSITS & OTHER CREDITS (+)\\\":null,\\\"WITHDRAWALS & OTHER DEBITS (-)\\\":25.0,\\\"TRANSACTION DESCRIPTION\\\":\\\"INTUIT *QuickBooks OnlCL.INTUIT.COM\\\",\\\"Type\\\":\\\"Service \\\\u2013 Software\\\"},{\\\"POSTING DATE\\\":1649635200000,\\\"DEPOSITS & OTHER CREDITS (+)\\\":null,\\\"WITHDRAWALS & OTHER DEBITS (-)\\\":25.0,\\\"TRANSACTION DESCRIPTION\\\":\\\"INTUIT *QuickBooks OnlCL.INTUIT.COM\\\",\\\"Type\\\":\\\"Service \\\\u2013 Software\\\"},{\\\"POSTING DATE\\\":1652054400000,\\\"DEPOSITS & OTHER CREDITS (+)\\\":null,\\\"WITHDRAWALS & OTHER DEBITS (-)\\\":25.0,\\\"TRANSACTION DESCRIPTION\\\":\\\"INTUIT *QuickBooks OnlCL.INTUIT.COM\\\",\\\"Type\\\":\\\"Service \\\\u2013 Software\\\"},{\\\"POSTING DATE\\\":1654732800000,\\\"DEPOSITS & OTHER CREDITS (+)\\\":null,\\\"WITHDRAWALS & OTHER DEBITS (-)\\\":25.0,\\\"TRANSACTION DESCRIPTION\\\":\\\"INTUIT *QuickBooks OnlCL.INTUIT.COM\\\",\\\"Type\\\":\\\"Service \\\\u2013 Software\\\"}]\", \"tags\": []}, {\"name\": \"INTUIT *TURBOTAX      CL.INTUIT.COM\", \"summary\": \"{\\\"COUNTS\\\":2.0,\\\"DEPOSITS\\\":0.0,\\\"DEBITS\\\":290.0,\\\"GROUP_ID\\\":5.0}\", \"transactions\": \"[{\\\"POSTING DATE\\\":1646611200000,\\\"DEPOSITS & OTHER CREDITS (+)\\\":null,\\\"WITHDRAWALS & OTHER DEBITS (-)\\\":120.0,\\\"TRANSACTION DESCRIPTION\\\":\\\"INTUIT *TURBOTAX      CL.INTUIT.COM\\\",\\\"Type\\\":\\\"Service \\\\u2013 Software\\\"},{\\\"POSTING DATE\\\":1646611200000,\\\"DEPOSITS & OTHER CREDITS (+)\\\":null,\\\"WITHDRAWALS & OTHER DEBITS (-)\\\":170.0,\\\"TRANSACTION DESCRIPTION\\\":\\\"INTUIT *TURBOTAX      CL.INTUIT.COM\\\",\\\"Type\\\":\\\"Service \\\\u2013 Software\\\"}]\", \"tags\": []}, {\"name\": \"NOUNPROJECT.COM       THENOUNPROJEC\", \"summary\": \"{\\\"COUNTS\\\":1.0,\\\"DEPOSITS\\\":0.0,\\\"DEBITS\\\":39.99,\\\"GROUP_ID\\\":6.0}\", \"transactions\": \"[{\\\"POSTING DATE\\\":1646006400000,\\\"DEPOSITS & OTHER CREDITS (+)\\\":null,\\\"WITHDRAWALS & OTHER DEBITS (-)\\\":39.99,\\\"TRANSACTION DESCRIPTION\\\":\\\"NOUNPROJECT.COM       THENOUNPROJEC\\\",\\\"Type\\\":\\\"Service \\\\u2013 Software\\\"}]\", \"tags\": []}, {\"name\": \"SERVICE CHARGE FOR ACCOUNT 000009872519609\", \"summary\": \"{\\\"COUNTS\\\":12.0,\\\"DEPOSITS\\\":0.0,\\\"DEBITS\\\":300.0,\\\"GROUP_ID\\\":7.0}\", \"transactions\": \"[{\\\"POSTING DATE\\\":1641772800000,\\\"DEPOSITS & OTHER CREDITS (+)\\\":null,\\\"WITHDRAWALS & OTHER DEBITS (-)\\\":25.0,\\\"TRANSACTION DESCRIPTION\\\":\\\"SERVICE CHARGE FOR ACCOUNT 000009872519609\\\",\\\"Type\\\":\\\"Expense \\\\u2013 Bank Fee\\\"},{\\\"POSTING DATE\\\":1644278400000,\\\"DEPOSITS & OTHER CREDITS (+)\\\":null,\\\"WITHDRAWALS & OTHER DEBITS (-)\\\":25.0,\\\"TRANSACTION DESCRIPTION\\\":\\\"SERVICE CHARGE FOR ACCOUNT 000009872519609\\\",\\\"Type\\\":\\\"Expense \\\\u2013 Bank Fee\\\"},{\\\"POSTING DATE\\\":1646697600000,\\\"DEPOSITS & OTHER CREDITS (+)\\\":null,\\\"WITHDRAWALS & OTHER DEBITS (-)\\\":25.0,\\\"TRANSACTION DESCRIPTION\\\":\\\"SERVICE CHARGE FOR ACCOUNT 000009872519609\\\",\\\"Type\\\":\\\"Expense \\\\u2013 Bank Fee\\\"},{\\\"POSTING DATE\\\":1649376000000,\\\"DEPOSITS & OTHER CREDITS (+)\\\":null,\\\"WITHDRAWALS & OTHER DEBITS (-)\\\":25.0,\\\"TRANSACTION DESCRIPTION\\\":\\\"SERVICE CHARGE FOR ACCOUNT 000009872519609\\\",\\\"Type\\\":\\\"Expense \\\\u2013 Bank Fee\\\"},{\\\"POSTING DATE\\\":1652054400000,\\\"DEPOSITS & OTHER CREDITS (+)\\\":null,\\\"WITHDRAWALS & OTHER DEBITS (-)\\\":25.0,\\\"TRANSACTION DESCRIPTION\\\":\\\"SERVICE CHARGE FOR ACCOUNT 000009872519609\\\",\\\"Type\\\":\\\"Expense \\\\u2013 Bank Fee\\\"},{\\\"POSTING DATE\\\":1654646400000,\\\"DEPOSITS & OTHER CREDITS (+)\\\":null,\\\"WITHDRAWALS & OTHER DEBITS (-)\\\":25.0,\\\"TRANSACTION DESCRIPTION\\\":\\\"SERVICE CHARGE FOR ACCOUNT 000009872519609\\\",\\\"Type\\\":\\\"Expense \\\\u2013 Bank Fee\\\"},{\\\"POSTING DATE\\\":1657497600000,\\\"DEPOSITS & OTHER CREDITS (+)\\\":null,\\\"WITHDRAWALS & OTHER DEBITS (-)\\\":25.0,\\\"TRANSACTION DESCRIPTION\\\":\\\"SERVICE CHARGE FOR ACCOUNT 000009872519609\\\",\\\"Type\\\":\\\"Expense \\\\u2013 Bank Fee\\\"},{\\\"POSTING DATE\\\":1659916800000,\\\"DEPOSITS & OTHER CREDITS (+)\\\":null,\\\"WITHDRAWALS & OTHER DEBITS (-)\\\":25.0,\\\"TRANSACTION DESCRIPTION\\\":\\\"SERVICE CHARGE FOR ACCOUNT 000009872519609\\\",\\\"Type\\\":\\\"Expense \\\\u2013 Bank Fee\\\"},{\\\"POSTING DATE\\\":1662681600000,\\\"DEPOSITS & OTHER CREDITS (+)\\\":null,\\\"WITHDRAWALS & OTHER DEBITS (-)\\\":25.0,\\\"TRANSACTION DESCRIPTION\\\":\\\"SERVICE CHARGE FOR ACCOUNT 000009872519609\\\",\\\"Type\\\":\\\"Expense \\\\u2013 Bank Fee\\\"},{\\\"POSTING DATE\\\":1665705600000,\\\"DEPOSITS & OTHER CREDITS (+)\\\":null,\\\"WITHDRAWALS & OTHER DEBITS (-)\\\":25.0,\\\"TRANSACTION DESCRIPTION\\\":\\\"SERVICE CHARGE FOR ACCOUNT 000009872519609\\\",\\\"Type\\\":\\\"Expense \\\\u2013 Bank Fee\\\"},{\\\"POSTING DATE\\\":1667865600000,\\\"DEPOSITS & OTHER CREDITS (+)\\\":null,\\\"WITHDRAWALS & OTHER DEBITS (-)\\\":25.0,\\\"TRANSACTION DESCRIPTION\\\":\\\"SERVICE CHARGE FOR ACCOUNT 000009872519609\\\",\\\"Type\\\":\\\"Expense \\\\u2013 Bank Fee\\\"},{\\\"POSTING DATE\\\":1670457600000,\\\"DEPOSITS & OTHER CREDITS (+)\\\":null,\\\"WITHDRAWALS & OTHER DEBITS (-)\\\":25.0,\\\"TRANSACTION DESCRIPTION\\\":\\\"SERVICE CHARGE FOR ACCOUNT 000009872519609\\\",\\\"Type\\\":\\\"Expense \\\\u2013 Bank Fee\\\"}]\", \"tags\": []}, {\"name\": \"WARREN COUUNTY ONLINE 540-6352215\", \"summary\": \"{\\\"COUNTS\\\":2.0,\\\"DEPOSITS\\\":0.0,\\\"DEBITS\\\":19.99,\\\"GROUP_ID\\\":8.0}\", \"transactions\": \"[{\\\"POSTING DATE\\\":1641427200000,\\\"DEPOSITS & OTHER CREDITS (+)\\\":null,\\\"WITHDRAWALS & OTHER DEBITS (-)\\\":10.2,\\\"TRANSACTION DESCRIPTION\\\":\\\"WARREN COUUNTY ONLINE 540-6352215\\\",\\\"Type\\\":\\\"Taxes\\\"},{\\\"POSTING DATE\\\":1655769600000,\\\"DEPOSITS & OTHER CREDITS (+)\\\":null,\\\"WITHDRAWALS & OTHER DEBITS (-)\\\":9.79,\\\"TRANSACTION DESCRIPTION\\\":\\\"WARREN COUUNTY ONLINE 540-6352215\\\",\\\"Type\\\":\\\"Taxes\\\"}]\", \"tags\": []}, {\"name\": \"WEB XFER FROM CHK 00009875147531\", \"summary\": \"{\\\"COUNTS\\\":2.0,\\\"DEPOSITS\\\":1120.0,\\\"DEBITS\\\":0.0,\\\"GROUP_ID\\\":9.0}\", \"transactions\": \"[{\\\"POSTING DATE\\\":1646179200000,\\\"DEPOSITS & OTHER CREDITS (+)\\\":620.0,\\\"WITHDRAWALS & OTHER DEBITS (-)\\\":null,\\\"TRANSACTION DESCRIPTION\\\":\\\"WEB XFER FROM CHK 00009875147531\\\",\\\"Type\\\":\\\"Member Contribution (50\\\\/50 BWC\\\\/NCB)\\\"},{\\\"POSTING DATE\\\":1672272000000,\\\"DEPOSITS & OTHER CREDITS (+)\\\":500.0,\\\"WITHDRAWALS & OTHER DEBITS (-)\\\":null,\\\"TRANSACTION DESCRIPTION\\\":\\\"WEB XFER FROM CHK 00009875147531\\\",\\\"Type\\\":\\\"Member Contribution (50\\\\/50 BWC\\\\/NCB)\\\"}]\", \"tags\": []}, {\"name\": \"WEB XFER TO CHK   00009875147531\", \"summary\": \"{\\\"COUNTS\\\":1.0,\\\"DEPOSITS\\\":0.0,\\\"DEBITS\\\":250.0,\\\"GROUP_ID\\\":10.0}\", \"transactions\": \"[{\\\"POSTING DATE\\\":1671408000000,\\\"DEPOSITS & OTHER CREDITS (+)\\\":null,\\\"WITHDRAWALS & OTHER DEBITS (-)\\\":250.0,\\\"TRANSACTION DESCRIPTION\\\":\\\"WEB XFER TO CHK   00009875147531\\\",\\\"Type\\\":\\\"Member Reimbursement (50\\\\/50 BWC\\\\/NCB)\\\"}]\", \"tags\": []}]\n"
     ]
    }
   ],
   "source": [
    "def parsed_json_from_csv(filename, engine):\n",
    "    \"\"\"Takes a CSV ledger and groups transactions by their description, providing group summaries for display in JSON\n",
    "    \n",
    "    param filename: str: The filename of the ledger to parse\n",
    "    param engine: str: The parsing engine to use for reading the ledger file\n",
    "    returns: List of dictionaries, with each dictionary representing a group of transactions \n",
    "    rtype: JSON\"\"\"\n",
    "    transactions = pd.read_excel(filename, engine=engine)\n",
    "    groups = transactions.groupby([\"TRANSACTION DESCRIPTION\"])\n",
    "    group_info = pd.DataFrame()\n",
    "    sums = groups.sum()\n",
    "    group_info[\"COUNTS\"] = groups.count()[\"POSTING DATE\"]\n",
    "    group_info[\"DEPOSITS\"] = sums[\"DEPOSITS & OTHER CREDITS (+)\"]\n",
    "    group_info[\"DEBITS\"] = sums[\"WITHDRAWALS & OTHER DEBITS (-)\"]\n",
    "    group_info = group_info.assign(GROUP_ID=pd.RangeIndex(len(group_info.index)))\n",
    "    parsed_trxns = [{\n",
    "    \"name\": k,\n",
    "    \"summary\": group_info.loc[k].to_json(),\n",
    "    \"transactions\": transactions.iloc[v].to_json(orient='records'),\n",
    "    \"tags\": []\n",
    "    } for k, v in groups.groups.items()]\n",
    "    \n",
    "    return json.dumps(parsed_trxns)\n",
    "\n",
    "parsed_json = parsed_json_from_csv(\"OmegaHorizon-checking-2022Transactions.ods\", \"odf\")\n",
    "print(parsed_json)"
   ]
  },
  {
   "cell_type": "code",
   "execution_count": null,
   "id": "9ee9550a",
   "metadata": {},
   "outputs": [],
   "source": []
  }
 ],
 "metadata": {
  "kernelspec": {
   "display_name": "Python 3 (ipykernel)",
   "language": "python",
   "name": "python3"
  },
  "language_info": {
   "codemirror_mode": {
    "name": "ipython",
    "version": 3
   },
   "file_extension": ".py",
   "mimetype": "text/x-python",
   "name": "python",
   "nbconvert_exporter": "python",
   "pygments_lexer": "ipython3",
   "version": "3.10.5"
  }
 },
 "nbformat": 4,
 "nbformat_minor": 5
}
